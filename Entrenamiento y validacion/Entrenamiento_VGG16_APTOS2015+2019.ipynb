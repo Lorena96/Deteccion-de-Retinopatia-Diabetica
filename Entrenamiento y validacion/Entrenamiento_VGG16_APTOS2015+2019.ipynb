{
 "cells": [
  {
   "cell_type": "markdown",
   "id": "4669f7bd",
   "metadata": {},
   "source": [
    "Librerías necesarias:"
   ]
  },
  {
   "cell_type": "code",
   "execution_count": 2,
   "id": "f558438a",
   "metadata": {},
   "outputs": [],
   "source": [
    "import numpy as np \n",
    "import pandas as pd\n",
    "import os\n",
    "import cv2\n",
    "import matplotlib.pyplot as plt\n",
    "import csv\n",
    "from PIL import Image\n",
    "from sklearn.metrics import roc_curve, auc\n",
    "from scipy import interp\n",
    "from itertools import cycle\n",
    "from sklearn.metrics import confusion_matrix\n",
    "#from scipy import stats\n",
    "#KERAS\n",
    "import h5py\n",
    "import keras\n",
    "from keras.models import Sequential\n",
    "from keras.layers import Dense, Conv2D, MaxPooling2D, Dropout, Flatten\n",
    "from tensorflow.keras.utils import to_categorical\n",
    "from keras import optimizers\n",
    "from sklearn.metrics import classification_report\n",
    "import collections\n",
    "from keras.models import model_from_json\n",
    "from tqdm import tqdm\n",
    "from sklearn.model_selection import train_test_split\n",
    "from keras.callbacks import ModelCheckpoint, EarlyStopping\n",
    "import keras.backend as K\n",
    "import tensorflow as tf\n",
    "from tensorflow.keras.preprocessing.image import ImageDataGenerator \n",
    "from tensorflow.keras import layers \n",
    "from tensorflow.keras import Model \n",
    "from tensorflow.keras.applications.vgg16 import VGG16\n",
    "from tensorflow.keras.optimizers import Adam\n",
    "from keras.models import model_from_json"
   ]
  },
  {
   "cell_type": "markdown",
   "id": "f307906c",
   "metadata": {},
   "source": [
    "Leemos el directorio y contamos cuántas imágenes hay"
   ]
  },
  {
   "cell_type": "code",
   "execution_count": 8,
   "id": "c56827b0",
   "metadata": {},
   "outputs": [],
   "source": [
    "# APTOS 2019\n",
    "directoris = []\n",
    "contador = []\n",
    "fitxers = []\n",
    "path_img = []\n",
    "\n",
    "#Devuelve el path a las imágenes (path_img), el nombre de las imágenes (fitxers) y la cantidad (contador)\n",
    "for dirname, _, filenames in os.walk('/Volumes/Lorena/APTOS/aptos2019-blindness-detection/train_images',followlinks=False):\n",
    "    directoris.append(os.path.join(dirname))\n",
    "    for i in filenames:\n",
    "        if not '._' in i:\n",
    "            fitxers.append(i)\n",
    "            path_img.append(dirname+\"/\"+i)\n",
    "    contador.append(dirname+': CONTÉ '+str(len(fitxers)) + ' FOTOS')"
   ]
  },
  {
   "cell_type": "code",
   "execution_count": 4,
   "id": "f01d312e",
   "metadata": {},
   "outputs": [],
   "source": [
    "# APTOS 2015\n",
    "directoris2 = []\n",
    "contador2 = []\n",
    "fitxers2 = []\n",
    "path_img2 = []\n",
    "\n",
    "#Devuelve el path a las imágenes (path_img), el nombre de las imágenes (fitxers) y la cantidad (contador)\n",
    "for dirname2, _, filenames2 in os.walk('/Volumes/Lorena/APTOS/archive/rescaled_train_896/rescaled_train_896',followlinks=False):\n",
    "    directoris2.append(os.path.join(dirname2))\n",
    "    for i in filenames2:\n",
    "        if not '._' in i:\n",
    "            fitxers2.append(i)\n",
    "            path_img2.append(dirname2+\"/\"+i)\n",
    "    contador2.append(dirname2+': CONTÉ '+str(len(fitxers2)) + ' FOTOS')"
   ]
  },
  {
   "cell_type": "code",
   "execution_count": 9,
   "id": "689372b5",
   "metadata": {},
   "outputs": [],
   "source": [
    "# Cargamos el train.csv de APTOS2019\n",
    "csv_train = open('/Volumes/Lorena/APTOS/aptos2019-blindness-detection/train.csv')\n",
    "csvreader = csv.reader(csv_train)\n",
    "rows = []\n",
    "for row in csvreader:\n",
    "        rows.append(row)"
   ]
  },
  {
   "cell_type": "code",
   "execution_count": 203,
   "id": "46d81304",
   "metadata": {},
   "outputs": [],
   "source": [
    "# Cargamos el train.csv de APTOS2015\n",
    "csv_train2 = open('/Volumes/Lorena/APTOS/archive/trainLabels.csv')\n",
    "csvreader2 = csv.reader(csv_train2)\n",
    "rows2 = []\n",
    "for row in csvreader2:\n",
    "        rows2.append(row)"
   ]
  },
  {
   "cell_type": "markdown",
   "id": "98b797a9",
   "metadata": {},
   "source": [
    "Creamos los sets de imágenes y etiquetas"
   ]
  },
  {
   "cell_type": "code",
   "execution_count": 209,
   "id": "f7c80e16",
   "metadata": {},
   "outputs": [
    {
     "name": "stdout",
     "output_type": "stream",
     "text": [
      "Total of images: 38788\n",
      "Total of rows: 38790\n"
     ]
    }
   ],
   "source": [
    "path_img_all = path_img + path_img2\n",
    "rows_all = rows + rows2\n",
    "print(f'Total of images: {len(path_img_all)}')\n",
    "print(f'Total of rows: {len(rows_all)}')"
   ]
  },
  {
   "cell_type": "code",
   "execution_count": 241,
   "id": "9b73efab",
   "metadata": {},
   "outputs": [],
   "source": [
    "data = []\n",
    "labels = []\n",
    "nombres_imgs = []\n",
    "items = []\n",
    "# recorremos los paths de las imágenes y de las filas del csv, buscamos el nombre de la imágen en el\n",
    "#csv y creamos dos sets de datos con las imágenes y la etiqueta correspondiente en la misma posición\n",
    "for imagePath in path_img_all:\n",
    "    #print(imagePath)\n",
    "    if not '._' in imagePath:\n",
    "        for row in rows_all:\n",
    "            item = imagePath.split(os.path.sep)[-1]\n",
    "            if item[0:item.find('.')] == row[0][0:row[0].find(';')] and item[1]!='_' :\n",
    "                # leemos la imagen\n",
    "                items.append(item)\n",
    "                image = cv2.imread(imagePath)\n",
    "                image = cv2.resize(image, (256, 256), interpolation=cv2.INTER_LINEAR)\n",
    "                # creamos los arrays de imágenes y etiquetas\n",
    "                nombres_imgs.append(imagePath)\n",
    "                data.append(image)\n",
    "                labels.append(row[0][(row[0].find(';'))+1:])"
   ]
  },
  {
   "cell_type": "markdown",
   "id": "d226948b",
   "metadata": {},
   "source": [
    "Procesamos las imágenes recortando los bordes y aplicando filtro gausiano"
   ]
  },
  {
   "cell_type": "code",
   "execution_count": 247,
   "id": "29fbaaed",
   "metadata": {},
   "outputs": [],
   "source": [
    "#Función que recorta los bordes de las imágenes \n",
    "#(inspirado en  https://www.kaggle.com/ratthachat/aptos-updated-preprocessing-ben-s-cropping)\n",
    "def crop_border(img):\n",
    "    gray_img = cv2.cvtColor(img, cv2.COLOR_BGR2GRAY)\n",
    "    mask = gray_img > 7       \n",
    "    check_shape = img[:,:,0][np.ix_(mask.any(1),mask.any(0))].shape[0]\n",
    "    if (check_shape == 0):\n",
    "        return img\n",
    "    else:\n",
    "        img1=img[:,:,0][np.ix_(mask.any(1),mask.any(0))]\n",
    "        img2=img[:,:,1][np.ix_(mask.any(1),mask.any(0))]\n",
    "        img3=img[:,:,2][np.ix_(mask.any(1),mask.any(0))]\n",
    "        img = np.stack([img1,img2,img3],axis=-1)\n",
    "    return img"
   ]
  },
  {
   "cell_type": "code",
   "execution_count": 248,
   "id": "711dc6aa",
   "metadata": {},
   "outputs": [],
   "source": [
    "processed_data = []\n",
    "for img in data:\n",
    "    image = img\n",
    "    # Cortamos los bordes\n",
    "    image = crop_border(image)\n",
    "    image = cv2.resize(image, (256, 256))\n",
    "    # Aplicamos GaussianBlur\n",
    "    blurred = cv2.blur(image, ksize=(int(256 / 6), int(256 / 6)))\n",
    "    image_blur = cv2.addWeighted(image, 4, cv2.GaussianBlur( image , (0,0) , 10) ,-4 ,128)\n",
    "    processed_data.append(image_blur)"
   ]
  },
  {
   "cell_type": "code",
   "execution_count": 178,
   "id": "842cd3f7",
   "metadata": {},
   "outputs": [
    {
     "data": {
      "text/plain": [
       "['10003_left',\n",
       " '10003_right',\n",
       " '10007_left',\n",
       " '10007_right',\n",
       " '10009_left',\n",
       " '10009_right',\n",
       " '1000_left',\n",
       " '1000_right',\n",
       " '10010_left',\n",
       " '10010_right']"
      ]
     },
     "execution_count": 178,
     "metadata": {},
     "output_type": "execute_result"
    }
   ],
   "source": [
    "labels[0:10]"
   ]
  },
  {
   "cell_type": "markdown",
   "id": "4e183a4f",
   "metadata": {},
   "source": [
    "Balanceamos los datos"
   ]
  },
  {
   "cell_type": "code",
   "execution_count": 249,
   "id": "ffcfc270",
   "metadata": {},
   "outputs": [
    {
     "data": {
      "text/plain": [
       "{'0': 27606, '1': 2812, '2': 6287, '3': 1066, '4': 1003}"
      ]
     },
     "execution_count": 249,
     "metadata": {},
     "output_type": "execute_result"
    }
   ],
   "source": [
    "unique, counts = np.unique(labels, return_counts=True)\n",
    "dict(zip(unique, counts))\n"
   ]
  },
  {
   "cell_type": "code",
   "execution_count": 250,
   "id": "878b9665",
   "metadata": {},
   "outputs": [
    {
     "name": "stdout",
     "output_type": "stream",
     "text": [
      "Minimo support:  1003\n"
     ]
    }
   ],
   "source": [
    "minimo=min(counts)\n",
    "print(\"Minimo support: \", minimo) #cogemos el minimo para equiparar la data de cada label"
   ]
  },
  {
   "cell_type": "code",
   "execution_count": 251,
   "id": "5a675ddb",
   "metadata": {
    "scrolled": true
   },
   "outputs": [],
   "source": [
    "lab_0=0; lab_1=0; lab_2=0; lab_3=0; lab_4=0\n",
    "ind_0=[]; ind_1=[]; ind_2=[]; ind_3=[]; ind_4=[]\n",
    "\n",
    "for a in range(len(labels)): #hacemos cinco listas de los indices de cada label de longitud=minimo\n",
    "    if (labels[a]=='0' and lab_0<minimo):\n",
    "        lab_0+=1\n",
    "        ind_0.append(a)\n",
    "    if (labels[a]=='1' and lab_1<minimo):\n",
    "        lab_1+=1\n",
    "        ind_1.append(a)\n",
    "    if (labels[a]=='2' and lab_2<minimo):\n",
    "        lab_2+=1\n",
    "        ind_2.append(a)\n",
    "    if (labels[a]=='3' and lab_3<minimo):\n",
    "        lab_3+=1\n",
    "        ind_3.append(a)\n",
    "    if (labels[a]=='4' and lab_4<minimo):\n",
    "        lab_4+=1\n",
    "        ind_4.append(a)"
   ]
  },
  {
   "cell_type": "markdown",
   "id": "0382069a",
   "metadata": {},
   "source": [
    "Creamos los conjuntos de entrenamiento, validación y prueba"
   ]
  },
  {
   "cell_type": "code",
   "execution_count": 252,
   "id": "635552c9",
   "metadata": {},
   "outputs": [
    {
     "name": "stdout",
     "output_type": "stream",
     "text": [
      "Lista train: 4010  test:  1005 \n",
      "Total lista:  5015  minimo total: 5015\n",
      "<class 'numpy.ndarray'>\n",
      "(4010, 256, 256, 3)\n",
      "<class 'numpy.ndarray'>\n",
      "(4010, 5)\n",
      "Shape of labels (4010, 5) shape of data train (4010, 256, 256, 3) shape of test train (1005, 256, 256, 3)\n"
     ]
    }
   ],
   "source": [
    "data_arr = np.array(processed_data)\n",
    "labels_arr = np.array(labels)\n",
    "\n",
    "final = int(minimo*0.8)\n",
    "\n",
    "#se separa la data en train y test\n",
    "ind_Train = ind_0[:final] + ind_1[:final] + ind_2[:final] + ind_3[:final] + ind_4[:final] \n",
    "ind_Test =  ind_0[final:] + ind_1[final:] + ind_2[final:] + ind_3[final:] + ind_4[final:]\n",
    "\n",
    "print(\"Lista train:\", len(ind_Train),\" test: \", len(ind_Test),\"\\nTotal lista: \", len(ind_Train)+len(ind_Test), \" minimo total:\", minimo*5)\n",
    "\n",
    "Train = ind_Train + ind_Test\n",
    "\n",
    "Train_Data = data_arr[Train, :, :, :] #Todos los datos (train + test)\n",
    "Train_Labels = to_categorical(np.array(labels_arr[Train])) #Todos las etiquetas (train + test)\n",
    "\n",
    "indTrainP = np.random.permutation(ind_Train)\n",
    "indTestP = np.random.permutation(ind_Test) \n",
    " \n",
    "       \n",
    "train_data = data_arr[indTrainP, :, :, :] #Datos con el 80% de los datos (train)\n",
    "print(type(train_data))\n",
    "print(np.shape(train_data))\n",
    "train_labels = to_categorical(np.array(labels_arr[indTrainP])) \n",
    "print(type(train_labels))\n",
    "print(np.shape(train_labels))\n",
    "test_data = data_arr[indTestP, :, :, :] #Datos con el 20% de los datos (test)\n",
    "test_labels = to_categorical(np.array(labels_arr[indTestP])) #etiquetas de test codificadas (x,4)\n",
    "print(\"Shape of labels\", train_labels.shape, \"shape of data train\", train_data.shape, \"shape of test train\", test_data.shape)"
   ]
  },
  {
   "cell_type": "code",
   "execution_count": 253,
   "id": "95ad8e3f",
   "metadata": {},
   "outputs": [
    {
     "name": "stdout",
     "output_type": "stream",
     "text": [
      "counter test Counter({2: 201, 0: 201, 1: 201, 4: 201, 3: 201})\n",
      "counter train Counter({0: 802, 3: 802, 2: 802, 4: 802, 1: 802})\n"
     ]
    }
   ],
   "source": [
    "#Para comprobar que el número es el mismo\n",
    "counterT=collections.Counter(np.argmax(test_labels,axis=1))\n",
    "print(\"counter test\", counterT)\n",
    "\n",
    "counterTR=collections.Counter(np.argmax(train_labels,axis=1))\n",
    "print(\"counter train\", counterTR)"
   ]
  },
  {
   "cell_type": "markdown",
   "id": "f4cb0e2e",
   "metadata": {},
   "source": [
    "Creamos el modelo y entrenamos"
   ]
  },
  {
   "cell_type": "code",
   "execution_count": 261,
   "id": "935c4fb9",
   "metadata": {},
   "outputs": [],
   "source": [
    "# Modelo en red preentrenada\n",
    "base_model = VGG16(input_shape = (256, 256, 3), # El tamaño de nuestras imágenes\n",
    "include_top = False, # Quitamos la última capa totalmente conectada\n",
    "weights = 'imagenet')\n",
    "\n",
    "for layer in base_model.layers:\n",
    "    layer.trainable = False\n",
    "\n",
    "# Aplanamos la capa de salida del modelo a una sola dimension\n",
    "x = layers.Flatten()(base_model.output)\n",
    "\n",
    "# Añadimos una capa totalmente conectada con 1024 neuronas y una activación ReLU\n",
    "x = layers.Dense(1024, activation='relu')(x)\n",
    "\n",
    "# Añadimos una dropout de 0.5\n",
    "x = layers.Dropout(0.5)(x)\n",
    "\n",
    "# Añadimos una capa densa con una activación softmax para que de un vector de probabilidades en la salida por cada clase\n",
    "x = layers.Dense(5, activation='softmax')(x)\n",
    "\n",
    "model = tf.keras.models.Model(base_model.input, x)"
   ]
  },
  {
   "cell_type": "code",
   "execution_count": 262,
   "id": "eefb81e8",
   "metadata": {
    "scrolled": true
   },
   "outputs": [
    {
     "name": "stderr",
     "output_type": "stream",
     "text": [
      "/opt/anaconda3/lib/python3.8/site-packages/keras/optimizer_v2/optimizer_v2.py:355: UserWarning: The `lr` argument is deprecated, use `learning_rate` instead.\n",
      "  warnings.warn(\n"
     ]
    },
    {
     "name": "stdout",
     "output_type": "stream",
     "text": [
      "Epoch 1/10\n",
      "33/33 [==============================] - 534s 16s/step - loss: 91.8137 - accuracy: 0.3996 - val_loss: 6.3282 - val_accuracy: 0.5208\n",
      "\n",
      "Epoch 00001: val_loss improved from inf to 6.32825, saving model to Final_VGG16_aug.h5\n",
      "Epoch 2/10\n",
      "33/33 [==============================] - 561s 17s/step - loss: 1.8517 - accuracy: 0.5610 - val_loss: 1.1300 - val_accuracy: 0.5596\n",
      "\n",
      "Epoch 00002: val_loss improved from 6.32825 to 1.13005, saving model to Final_VGG16_aug.h5\n",
      "Epoch 3/10\n",
      "33/33 [==============================] - 579s 18s/step - loss: 1.0530 - accuracy: 0.6041 - val_loss: 1.0814 - val_accuracy: 0.5900\n",
      "\n",
      "Epoch 00003: val_loss improved from 1.13005 to 1.08136, saving model to Final_VGG16_aug.h5\n",
      "Epoch 4/10\n",
      "33/33 [==============================] - 612s 19s/step - loss: 0.8952 - accuracy: 0.6644 - val_loss: 1.0908 - val_accuracy: 0.6427\n",
      "\n",
      "Epoch 00004: val_loss did not improve from 1.08136\n",
      "Epoch 5/10\n",
      "33/33 [==============================] - 599s 18s/step - loss: 0.7755 - accuracy: 0.7078 - val_loss: 1.0514 - val_accuracy: 0.6510\n",
      "\n",
      "Epoch 00005: val_loss improved from 1.08136 to 1.05142, saving model to Final_VGG16_aug.h5\n",
      "Epoch 6/10\n",
      "33/33 [==============================] - 548s 17s/step - loss: 0.7054 - accuracy: 0.7343 - val_loss: 1.2317 - val_accuracy: 0.6316\n",
      "\n",
      "Epoch 00006: val_loss did not improve from 1.05142\n",
      "Epoch 7/10\n",
      "33/33 [==============================] - 535s 16s/step - loss: 0.6451 - accuracy: 0.7611 - val_loss: 1.1116 - val_accuracy: 0.6565\n",
      "\n",
      "Epoch 00007: val_loss did not improve from 1.05142\n",
      "Epoch 8/10\n",
      "33/33 [==============================] - 540s 16s/step - loss: 0.5824 - accuracy: 0.7712 - val_loss: 1.0831 - val_accuracy: 0.6371\n",
      "\n",
      "Epoch 00008: val_loss did not improve from 1.05142\n",
      "Epoch 9/10\n",
      "33/33 [==============================] - 572s 17s/step - loss: 0.5235 - accuracy: 0.7990 - val_loss: 1.0165 - val_accuracy: 0.6316\n",
      "\n",
      "Epoch 00009: val_loss improved from 1.05142 to 1.01654, saving model to Final_VGG16_aug.h5\n",
      "Epoch 10/10\n",
      "33/33 [==============================] - 562s 17s/step - loss: 0.5001 - accuracy: 0.8017 - val_loss: 1.0784 - val_accuracy: 0.6731\n",
      "\n",
      "Epoch 00010: val_loss did not improve from 1.01654\n",
      "13/13 [==============================] - 60s 5s/step - loss: 1.2289 - accuracy: 0.6459\n",
      "Val Score:  [1.2289202213287354, 0.6458852887153625]\n",
      "13/13 [==============================] - 60s 5s/step - loss: 1.2289 - accuracy: 0.6459\n",
      "====================================================================================\n",
      "\n",
      "\n"
     ]
    }
   ],
   "source": [
    "# Definimos el criterio de early stopping\n",
    "pat = 5 # Este es el número de épocas sin mejora después de las cuales el entrenamiento parará\n",
    "early_stopping = EarlyStopping(monitor='val_loss', patience=pat, verbose=1)\n",
    "\n",
    "\n",
    "# Definimos el checkpoint callback del modelo \n",
    "model_checkpoint = ModelCheckpoint('Final_VGG16_aug.h5', verbose=1, save_best_only=True)\n",
    "history = []\n",
    "score = []\n",
    "score_history = []\n",
    "def fit_and_evaluate(t_x, val_x, t_y, val_y, EPOCHS=20, BATCH_SIZE=100):\n",
    "    model.compile(optimizer=Adam(lr=0.001), loss = 'categorical_crossentropy', metrics = ['accuracy']) \n",
    "    vgg = model.fit(t_x, t_y, epochs = 10, batch_size=BATCH_SIZE, callbacks=[early_stopping, model_checkpoint], \n",
    "              verbose=1, validation_split=0.1) \n",
    "    \n",
    "    print(\"Val Score: \", model.evaluate(val_x, val_y))\n",
    "    score.append(model.evaluate(val_x, val_y)[1])\n",
    "    return vgg, score\n",
    "\n",
    "#n_folds=10\n",
    "epochs=20\n",
    "batch_size=100\n",
    "\n",
    "t_x, val_x, t_y, val_y = train_test_split(train_data, train_labels, test_size=0.1, \n",
    "                                           random_state = np.random.randint(1,1000, 1)[0])\n",
    "\n",
    "model_history, score_hist = fit_and_evaluate(t_x, val_x, t_y, val_y, epochs, batch_size)\n",
    "print(\"=======\"*12, end=\"\\n\\n\\n\")\n",
    "history.append(model_history)\n",
    "score_history.append(score_hist)"
   ]
  },
  {
   "cell_type": "markdown",
   "id": "f58eae23",
   "metadata": {},
   "source": [
    "Evaluamos el modelo con los datos de test"
   ]
  },
  {
   "cell_type": "code",
   "execution_count": 263,
   "id": "46fa8adc",
   "metadata": {},
   "outputs": [
    {
     "name": "stdout",
     "output_type": "stream",
     "text": [
      "32/32 [==============================] - 143s 4s/step - loss: 1.0514 - accuracy: 0.7035\n",
      "\n",
      " loss : 105.14\n",
      "\n",
      " accuracy : 70.35\n"
     ]
    }
   ],
   "source": [
    "# Evaluacion basica de la accuracy\n",
    "v = model.evaluate(test_data, test_labels)\n",
    "w = model.metrics_names\n",
    "\n",
    "for t in range (len(w)):\n",
    "    print(\"\\n\", w[t],\":\", np.round(v[t]*100,2))"
   ]
  },
  {
   "cell_type": "markdown",
   "id": "9871fe05",
   "metadata": {},
   "source": [
    "Hacemos la predicción de los datos de test y calculamos la precisión, el recall, el f1-score y el support"
   ]
  },
  {
   "cell_type": "code",
   "execution_count": 264,
   "id": "a158909b",
   "metadata": {},
   "outputs": [
    {
     "name": "stdout",
     "output_type": "stream",
     "text": [
      "VGG16 MODEL\n",
      "              precision    recall  f1-score   support\n",
      "\n",
      "           0       0.88      0.94      0.91       201\n",
      "           1       0.63      0.62      0.62       201\n",
      "           2       0.96      0.71      0.81       201\n",
      "           3       0.51      0.62      0.56       201\n",
      "           4       0.64      0.64      0.64       201\n",
      "\n",
      "    accuracy                           0.70      1005\n",
      "   macro avg       0.72      0.70      0.71      1005\n",
      "weighted avg       0.72      0.70      0.71      1005\n",
      "\n"
     ]
    }
   ],
   "source": [
    "# Obtencion de la precison, recall, f1-score y support por cada clase\n",
    "test_pred = model.predict(test_data)\n",
    "test_pred_de = np.argmax(test_pred,axis=1)\n",
    "test_labels_de = np.argmax(test_labels, axis=1)\n",
    "print('VGG16 MODEL')\n",
    "print(classification_report(test_labels_de, test_pred_de))"
   ]
  },
  {
   "cell_type": "code",
   "execution_count": 282,
   "id": "016798be",
   "metadata": {},
   "outputs": [],
   "source": [
    "def acc_plot(history):\n",
    "    plt.plot(history.history['accuracy'])\n",
    "    plt.plot(history.history['val_accuracy'])\n",
    "    plt.title('Model accuracy')\n",
    "    plt.ylabel('Accuracy')\n",
    "    plt.xlabel('Epoch')\n",
    "    plt.legend(['Train_acc', 'Val_acc'], loc='upper left')\n",
    "    plt.show()\n",
    "    \n",
    "def loss_plot(history):\n",
    "    plt.plot(history.history['loss'])\n",
    "    plt.plot(history.history['val_loss']) \n",
    "    plt.title('Model loss') \n",
    "    plt.ylabel('Loss') \n",
    "    plt.xlabel('Epoch') \n",
    "    plt.legend(['Train_loss', 'Val_loss'], loc='upper left') \n",
    "    plt.show()\n"
   ]
  },
  {
   "cell_type": "code",
   "execution_count": 283,
   "id": "26df9980",
   "metadata": {},
   "outputs": [
    {
     "data": {
      "image/png": "[encoded data removed]",
      "text/plain": [
       "<Figure size 432x288 with 1 Axes>"
      ]
     },
     "metadata": {
      "needs_background": "light"
     },
     "output_type": "display_data"
    }
   ],
   "source": [
    "acc_plot(model_history)"
   ]
  },
  {
   "cell_type": "code",
   "execution_count": 284,
   "id": "25ae2e9f",
   "metadata": {},
   "outputs": [
    {
     "data": {
      "image/png": "[encoded data removed]",
      "text/plain": [
       "<Figure size 432x288 with 1 Axes>"
      ]
     },
     "metadata": {
      "needs_background": "light"
     },
     "output_type": "display_data"
    }
   ],
   "source": [
    "loss_plot(model_history)"
   ]
  },
  {
   "cell_type": "markdown",
   "id": "72dfd93f",
   "metadata": {},
   "source": [
    "Calculamos las curvas ROC y la matriz de confusión"
   ]
  },
  {
   "cell_type": "code",
   "execution_count": 265,
   "id": "8c8a2ee0",
   "metadata": {},
   "outputs": [
    {
     "name": "stderr",
     "output_type": "stream",
     "text": [
      "/var/folders/8t/60tzsb9x2p1_hm55m00nhbgh0000gn/T/ipykernel_28762/1664747380.py:26: DeprecationWarning: scipy.interp is deprecated and will be removed in SciPy 2.0.0, use numpy.interp instead\n",
      "  mean_tpr += interp(all_fpr, fpr[i], tpr[i])\n"
     ]
    },
    {
     "data": {
      "image/png": "[encoded data removed]",
      "text/plain": [
       "<Figure size 432x288 with 1 Axes>"
      ]
     },
     "metadata": {
      "needs_background": "light"
     },
     "output_type": "display_data"
    }
   ],
   "source": [
    "# Calculo de las curvas roc por clase\n",
    "from sklearn.metrics import roc_curve, auc\n",
    "from scipy import interp\n",
    "from itertools import cycle\n",
    "\n",
    "lw = 2\n",
    "fpr = dict()\n",
    "tpr = dict()\n",
    "roc_auc = dict()\n",
    "n_classes=[0,1,2,3,4]\n",
    "\n",
    "for i in n_classes:\n",
    "    fpr[i], tpr[i], _ = roc_curve(test_labels[:, i], test_pred[:, i])\n",
    "    roc_auc[i] = auc(fpr[i], tpr[i])\n",
    "\n",
    "# Calculamos el micro-average de la curva ROC y el área ROC\n",
    "fpr[\"micro\"], tpr[\"micro\"], _ = roc_curve(test_labels.ravel(), test_pred.ravel())\n",
    "roc_auc[\"micro\"] = auc(fpr[\"micro\"], tpr[\"micro\"])\n",
    "\n",
    "# Agregamos primero todos los falsos positivos\n",
    "all_fpr = np.unique(np.concatenate([fpr[i] for i in n_classes]))\n",
    "\n",
    "# Ahora interpolamos todas la curvas roc en estos puntos\n",
    "mean_tpr = np.zeros_like(all_fpr)\n",
    "for i in n_classes:\n",
    "    mean_tpr += interp(all_fpr, fpr[i], tpr[i])\n",
    "\n",
    "# Finalmente hacemos la media y calculamos AUC\n",
    "mean_tpr /= len(n_classes)\n",
    "\n",
    "fpr[\"macro\"] = all_fpr\n",
    "tpr[\"macro\"] = mean_tpr\n",
    "roc_auc[\"macro\"] = auc(fpr[\"macro\"], tpr[\"macro\"])\n",
    "\n",
    "colors = cycle(['aqua', 'darkorange', 'cornflowerblue','green','red'])\n",
    "d={0:\"sin rd\", 1:\"leve\", 2:\"moderada\", 3: \"grave\", 4:\"proliferativa\"}\n",
    "for i, color in zip(n_classes, colors):\n",
    "    plt.plot(fpr[i], tpr[i], color=color, lw=lw,\n",
    "             label='{0} (A={1:0.2f})'\n",
    "             ''.format(d[i], roc_auc[i]))\n",
    "\n",
    "plt.plot([0, 1], [0, 1], 'k--', lw=lw)\n",
    "plt.xlim([0.0, 1.0])\n",
    "plt.ylim([0.0, 1.05])\n",
    "plt.title('ROC curves using VGG16 model')\n",
    "plt.xlabel('False Positive Rate')\n",
    "plt.ylabel('True Positive Rate')\n",
    "plt.legend(loc=\"lower right\")\n",
    "plt.show()"
   ]
  },
  {
   "cell_type": "code",
   "execution_count": 266,
   "id": "3cee42f4",
   "metadata": {},
   "outputs": [
    {
     "data": {
      "image/png": "[encoded data removed]",
      "text/plain": [
       "<Figure size 540x540 with 1 Axes>"
      ]
     },
     "metadata": {
      "needs_background": "light"
     },
     "output_type": "display_data"
    }
   ],
   "source": [
    "# Calculamos la matriz de confusión\n",
    "mat_con = (confusion_matrix(test_labels_de, test_pred_de, labels=[0, 1,2,3,4]))\n",
    "fig, px = plt.subplots(figsize=(7.5, 7.5))\n",
    "px.matshow(mat_con, cmap=plt.cm.YlOrRd, alpha=0.5)\n",
    "for m in range(mat_con.shape[0]):\n",
    "    for n in range(mat_con.shape[1]):\n",
    "        px.text(x=m,y=n,s=mat_con[m, n], va='center', ha='center', size='xx-large')\n",
    "plt.xlabel('Predictions', fontsize=16)\n",
    "plt.ylabel('Reals', fontsize=16)\n",
    "plt.title('Confusion Matrix', fontsize=15)\n",
    "plt.show()"
   ]
  },
  {
   "cell_type": "code",
   "execution_count": null,
   "id": "d21c34b2",
   "metadata": {},
   "outputs": [],
   "source": []
  }
 ],
 "metadata": {
  "kernelspec": {
   "display_name": "Python 3 (ipykernel)",
   "language": "python",
   "name": "python3"
  },
  "language_info": {
   "codemirror_mode": {
    "name": "ipython",
    "version": 3
   },
   "file_extension": ".py",
   "mimetype": "text/x-python",
   "name": "python",
   "nbconvert_exporter": "python",
   "pygments_lexer": "ipython3",
   "version": "3.8.8"
  }
 },
 "nbformat": 4,
 "nbformat_minor": 5
}
