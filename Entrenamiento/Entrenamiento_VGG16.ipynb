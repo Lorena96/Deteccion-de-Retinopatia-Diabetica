{
 "cells": [
  {
   "cell_type": "markdown",
   "id": "4669f7bd",
   "metadata": {},
   "source": [
    "Librerías necesarias:"
   ]
  },
  {
   "cell_type": "code",
   "execution_count": 17,
   "id": "f558438a",
   "metadata": {},
   "outputs": [],
   "source": [
    "import numpy as np \n",
    "import pandas as pd\n",
    "import os\n",
    "import cv2\n",
    "import matplotlib.pyplot as plt\n",
    "import csv\n",
    "from PIL import Image\n",
    "from sklearn.metrics import roc_curve, auc\n",
    "from scipy import interp\n",
    "from itertools import cycle\n",
    "from sklearn.metrics import confusion_matrix\n",
    "#from scipy import stats\n",
    "#KERAS\n",
    "import h5py\n",
    "import keras\n",
    "from keras.models import Sequential\n",
    "from keras.layers import Dense, Conv2D, MaxPooling2D, Dropout, Flatten\n",
    "from tensorflow.keras.utils import to_categorical\n",
    "from keras import optimizers\n",
    "from sklearn.metrics import classification_report\n",
    "import collections\n",
    "from keras.models import model_from_json\n",
    "from tqdm import tqdm\n",
    "from sklearn.model_selection import train_test_split\n",
    "from keras.callbacks import ModelCheckpoint, EarlyStopping\n",
    "import keras.backend as K\n",
    "import tensorflow as tf\n",
    "from tensorflow.keras.preprocessing.image import ImageDataGenerator \n",
    "from tensorflow.keras import layers \n",
    "from tensorflow.keras import Model \n",
    "from tensorflow.keras.applications.vgg16 import VGG16\n",
    "from tensorflow.keras.optimizers import Adam"
   ]
  },
  {
   "cell_type": "markdown",
   "id": "f307906c",
   "metadata": {},
   "source": [
    "Leemos el directorio y contamos cuántas imágenes hay"
   ]
  },
  {
   "cell_type": "code",
   "execution_count": 5,
   "id": "c56827b0",
   "metadata": {},
   "outputs": [],
   "source": [
    "directoris = []\n",
    "contador = []\n",
    "fitxers = []\n",
    "path_img = []\n",
    "\n",
    "#Devuelve el path a las imágenes (path_img), el nombre de las imágenes (fitxers) y la cantidad (contador)\n",
    "for dirname, _, filenames in os.walk('/Volumes/Lorena/APTOS/aptos2019-blindness-detection/train_images',followlinks=False):\n",
    "    directoris.append(os.path.join(dirname))\n",
    "    for i in filenames:\n",
    "        if not '._' in i:\n",
    "            fitxers.append(i)\n",
    "            path_img.append(dirname+\"/\"+i)\n",
    "    contador.append(dirname+': CONTÉ '+str(len(fitxers)) + ' FOTOS')"
   ]
  },
  {
   "cell_type": "code",
   "execution_count": 6,
   "id": "689372b5",
   "metadata": {},
   "outputs": [],
   "source": [
    "# Cargamos el train.csv\n",
    "csv_train = open('/Volumes/Lorena/APTOS/aptos2019-blindness-detection/train.csv')\n",
    "csvreader = csv.reader(csv_train)\n",
    "rows = []\n",
    "for row in csvreader:\n",
    "        rows.append(row)"
   ]
  },
  {
   "cell_type": "markdown",
   "id": "98b797a9",
   "metadata": {},
   "source": [
    "Creamos los sets de imágenes y etiquetas"
   ]
  },
  {
   "cell_type": "code",
   "execution_count": 7,
   "id": "9b73efab",
   "metadata": {},
   "outputs": [],
   "source": [
    "data = []\n",
    "labels = []\n",
    "# recorremos los paths de las imágenes y de las filas del csv, buscamos el nombre de la imágen en el\n",
    "#csv y creamos dos sets de datos con las imágenes y la etiqueta correspondiente en la misma posición\n",
    "for imagePath in path_img:\n",
    "    #print(imagePath)\n",
    "    if not '._' in imagePath:\n",
    "        for row in rows:\n",
    "            item = imagePath.split(os.path.sep)[-1]\n",
    "            if item[0:item.find('.')] in row[0] and item[1]!='_' :\n",
    "                # leemos la imagen\n",
    "                image = cv2.imread(imagePath)\n",
    "                image = cv2.resize(image, (256, 256), interpolation=cv2.INTER_LINEAR)\n",
    "                # creamos los arrays de imágenes y etiquetas\n",
    "                data.append(image)\n",
    "                labels.append(row[0][(row[0].find(';'))+1:])"
   ]
  },
  {
   "cell_type": "code",
   "execution_count": 26,
   "id": "944354a4",
   "metadata": {},
   "outputs": [
    {
     "data": {
      "text/plain": [
       "3648"
      ]
     },
     "execution_count": 26,
     "metadata": {},
     "output_type": "execute_result"
    }
   ],
   "source": [
    "len(data)"
   ]
  },
  {
   "cell_type": "markdown",
   "id": "d226948b",
   "metadata": {},
   "source": [
    "Procesamos las imágenes recortando los bordes y aplicando filtro gausiano"
   ]
  },
  {
   "cell_type": "code",
   "execution_count": 8,
   "id": "29fbaaed",
   "metadata": {},
   "outputs": [],
   "source": [
    "#Función que recorta los bordes de las imágenes \n",
    "#(inspirado en  https://www.kaggle.com/ratthachat/aptos-updated-preprocessing-ben-s-cropping)\n",
    "def crop_border(img):\n",
    "    gray_img = cv2.cvtColor(img, cv2.COLOR_BGR2GRAY)\n",
    "    mask = gray_img > 7       \n",
    "    check_shape = img[:,:,0][np.ix_(mask.any(1),mask.any(0))].shape[0]\n",
    "    if (check_shape == 0):\n",
    "        return img\n",
    "    else:\n",
    "        img1=img[:,:,0][np.ix_(mask.any(1),mask.any(0))]\n",
    "        img2=img[:,:,1][np.ix_(mask.any(1),mask.any(0))]\n",
    "        img3=img[:,:,2][np.ix_(mask.any(1),mask.any(0))]\n",
    "        img = np.stack([img1,img2,img3],axis=-1)\n",
    "    return img"
   ]
  },
  {
   "cell_type": "code",
   "execution_count": 9,
   "id": "711dc6aa",
   "metadata": {},
   "outputs": [],
   "source": [
    "processed_data = []\n",
    "for img in data:\n",
    "    image = img\n",
    "    # Cortamos los bordes\n",
    "    image = crop_border(image)\n",
    "    image = cv2.resize(image, (256, 256))\n",
    "    # Aplicamos GaussianBlur\n",
    "    blurred = cv2.blur(image, ksize=(int(256 / 6), int(256 / 6)))\n",
    "    image_blur = cv2.addWeighted(image, 4, cv2.GaussianBlur( image , (0,0) , 10) ,-4 ,128)\n",
    "    processed_data.append(image_blur)"
   ]
  },
  {
   "cell_type": "markdown",
   "id": "4e183a4f",
   "metadata": {},
   "source": [
    "Balanceamos los datos"
   ]
  },
  {
   "cell_type": "code",
   "execution_count": 10,
   "id": "ffcfc270",
   "metadata": {},
   "outputs": [
    {
     "data": {
      "text/plain": [
       "{'0': 1796, '1': 369, '2': 995, '3': 193, '4': 295}"
      ]
     },
     "execution_count": 10,
     "metadata": {},
     "output_type": "execute_result"
    }
   ],
   "source": [
    "unique, counts = np.unique(labels, return_counts=True)\n",
    "dict(zip(unique, counts))\n"
   ]
  },
  {
   "cell_type": "code",
   "execution_count": 11,
   "id": "878b9665",
   "metadata": {},
   "outputs": [
    {
     "name": "stdout",
     "output_type": "stream",
     "text": [
      "Minimo support:  193\n"
     ]
    }
   ],
   "source": [
    "minimo=min(counts)\n",
    "print(\"Minimo support: \", minimo) #cogemos el minimo para equiparar la data de cada label"
   ]
  },
  {
   "cell_type": "code",
   "execution_count": 12,
   "id": "5a675ddb",
   "metadata": {
    "scrolled": true
   },
   "outputs": [],
   "source": [
    "lab_0=0; lab_1=0; lab_2=0; lab_3=0; lab_4=0\n",
    "ind_0=[]; ind_1=[]; ind_2=[]; ind_3=[]; ind_4=[]\n",
    "\n",
    "for a in range(len(labels)): #hacemos cinco listas de los indices de cada label de longitud=minimo\n",
    "    if (labels[a]=='0' and lab_0<minimo):\n",
    "        lab_0+=1\n",
    "        ind_0.append(a)\n",
    "    if (labels[a]=='1' and lab_1<minimo):\n",
    "        lab_1+=1\n",
    "        ind_1.append(a)\n",
    "    if (labels[a]=='2' and lab_2<minimo):\n",
    "        lab_2+=1\n",
    "        ind_2.append(a)\n",
    "    if (labels[a]=='3' and lab_3<minimo):\n",
    "        lab_3+=1\n",
    "        ind_3.append(a)\n",
    "    if (labels[a]=='4' and lab_4<minimo):\n",
    "        lab_4+=1\n",
    "        ind_4.append(a)"
   ]
  },
  {
   "cell_type": "markdown",
   "id": "0382069a",
   "metadata": {},
   "source": [
    "Creamos los conjuntos de entrenamiento, validación y prueba"
   ]
  },
  {
   "cell_type": "code",
   "execution_count": 13,
   "id": "635552c9",
   "metadata": {},
   "outputs": [
    {
     "name": "stdout",
     "output_type": "stream",
     "text": [
      "Lista train: 770  test:  195 \n",
      "Total lista:  965  minimo total: 965\n",
      "<class 'numpy.ndarray'>\n",
      "(770, 256, 256, 3)\n",
      "<class 'numpy.ndarray'>\n",
      "(770, 5)\n",
      "Shape of labels (770, 5) shape of data train (770, 256, 256, 3) shape of test train (195, 256, 256, 3)\n"
     ]
    }
   ],
   "source": [
    "data_arr = np.array(processed_data)\n",
    "labels_arr = np.array(labels)\n",
    "\n",
    "final = int(minimo*0.8)\n",
    "\n",
    "#se separa la data en train y test\n",
    "ind_Train = ind_0[:final] + ind_1[:final] + ind_2[:final] + ind_3[:final] + ind_4[:final] \n",
    "ind_Test =  ind_0[final:] + ind_1[final:] + ind_2[final:] + ind_3[final:] + ind_4[final:]\n",
    "\n",
    "print(\"Lista train:\", len(ind_Train),\" test: \", len(ind_Test),\"\\nTotal lista: \", len(ind_Train)+len(ind_Test), \" minimo total:\", minimo*5)\n",
    "\n",
    "Train = ind_Train + ind_Test\n",
    "\n",
    "Train_Data = data_arr[Train, :, :, :] #Todos los datos (train + test)\n",
    "Train_Labels = to_categorical(np.array(labels_arr[Train])) #Todos las etiquetas (train + test)\n",
    "\n",
    "indTrainP = np.random.permutation(ind_Train)\n",
    "indTestP = np.random.permutation(ind_Test) \n",
    " \n",
    "       \n",
    "train_data = data_arr[indTrainP, :, :, :] #Datos con el 80% de los datos (train)\n",
    "print(type(train_data))\n",
    "print(np.shape(train_data))\n",
    "train_labels = to_categorical(np.array(labels_arr[indTrainP])) \n",
    "print(type(train_labels))\n",
    "print(np.shape(train_labels))\n",
    "test_data = data_arr[indTestP, :, :, :] #Datos con el 20% de los datos (test)\n",
    "test_labels = to_categorical(np.array(labels_arr[indTestP])) #etiquetas de test codificadas (x,4)\n",
    "print(\"Shape of labels\", train_labels.shape, \"shape of data train\", train_data.shape, \"shape of test train\", test_data.shape)"
   ]
  },
  {
   "cell_type": "code",
   "execution_count": 14,
   "id": "95ad8e3f",
   "metadata": {},
   "outputs": [
    {
     "name": "stdout",
     "output_type": "stream",
     "text": [
      "counter test Counter({3: 39, 1: 39, 0: 39, 2: 39, 4: 39})\n",
      "counter train Counter({3: 154, 4: 154, 2: 154, 0: 154, 1: 154})\n"
     ]
    }
   ],
   "source": [
    "#Para comprobar que el número es el mismo\n",
    "counterT=collections.Counter(np.argmax(test_labels,axis=1))\n",
    "print(\"counter test\", counterT)\n",
    "\n",
    "counterTR=collections.Counter(np.argmax(train_labels,axis=1))\n",
    "print(\"counter train\", counterTR)"
   ]
  },
  {
   "cell_type": "markdown",
   "id": "f4cb0e2e",
   "metadata": {},
   "source": [
    "Creamos el modelo y entrenamos"
   ]
  },
  {
   "cell_type": "code",
   "execution_count": 15,
   "id": "935c4fb9",
   "metadata": {},
   "outputs": [
    {
     "name": "stderr",
     "output_type": "stream",
     "text": [
      "2022-05-05 00:18:28.884975: I tensorflow/core/platform/cpu_feature_guard.cc:142] This TensorFlow binary is optimized with oneAPI Deep Neural Network Library (oneDNN) to use the following CPU instructions in performance-critical operations:  AVX2 FMA\n",
      "To enable them in other operations, rebuild TensorFlow with the appropriate compiler flags.\n"
     ]
    }
   ],
   "source": [
    "# Modelo en red preentrenada\n",
    "base_model = VGG16(input_shape = (256, 256, 3), # El tamaño de nuestras imágenes\n",
    "include_top = False, # Quitamos la última capa totalmente conectada\n",
    "weights = 'imagenet')\n",
    "\n",
    "for layer in base_model.layers:\n",
    "    layer.trainable = False\n",
    "\n",
    "# Aplanamos la capa de salida del modelo a una sola dimension\n",
    "x = layers.Flatten()(base_model.output)\n",
    "\n",
    "# Añadimos una capa totalmente conectada con 1024 neuronas y una activación ReLU\n",
    "x = layers.Dense(1024, activation='relu')(x)\n",
    "\n",
    "# Añadimos una dropout de 0.5\n",
    "x = layers.Dropout(0.5)(x)\n",
    "\n",
    "# Añadimos una capa densa con una activación softmax para que de un vector de probabilidades en la salida por cada clase\n",
    "x = layers.Dense(5, activation='softmax')(x)\n",
    "\n",
    "model = tf.keras.models.Model(base_model.input, x)"
   ]
  },
  {
   "cell_type": "code",
   "execution_count": 20,
   "id": "eefb81e8",
   "metadata": {
    "scrolled": true
   },
   "outputs": [
    {
     "name": "stdout",
     "output_type": "stream",
     "text": [
      "Epoch 1/10\n",
      "7/7 [==============================] - 111s 16s/step - loss: 2.3630 - accuracy: 0.7079 - val_loss: 1.3066 - val_accuracy: 0.7857\n",
      "\n",
      "Epoch 00001: val_loss improved from inf to 1.30658, saving model to Final_VGG16.h5\n",
      "Epoch 2/10\n",
      "7/7 [==============================] - 117s 17s/step - loss: 1.6109 - accuracy: 0.6790 - val_loss: 1.4290 - val_accuracy: 0.7286\n",
      "\n",
      "Epoch 00002: val_loss did not improve from 1.30658\n",
      "Epoch 3/10\n",
      "7/7 [==============================] - 117s 16s/step - loss: 1.1753 - accuracy: 0.6934 - val_loss: 0.7465 - val_accuracy: 0.8143\n",
      "\n",
      "Epoch 00003: val_loss improved from 1.30658 to 0.74652, saving model to Final_VGG16.h5\n",
      "Epoch 4/10\n",
      "7/7 [==============================] - 113s 16s/step - loss: 1.3172 - accuracy: 0.7063 - val_loss: 1.3072 - val_accuracy: 0.8286\n",
      "\n",
      "Epoch 00004: val_loss did not improve from 0.74652\n",
      "Epoch 5/10\n",
      "7/7 [==============================] - 112s 16s/step - loss: 1.1114 - accuracy: 0.7159 - val_loss: 0.8179 - val_accuracy: 0.7571\n",
      "\n",
      "Epoch 00005: val_loss did not improve from 0.74652\n",
      "Epoch 6/10\n",
      "7/7 [==============================] - 111s 16s/step - loss: 0.7966 - accuracy: 0.7143 - val_loss: 0.6522 - val_accuracy: 0.8143\n",
      "\n",
      "Epoch 00006: val_loss improved from 0.74652 to 0.65216, saving model to Final_VGG16.h5\n",
      "Epoch 7/10\n",
      "7/7 [==============================] - 111s 16s/step - loss: 0.6658 - accuracy: 0.7464 - val_loss: 0.7363 - val_accuracy: 0.7857\n",
      "\n",
      "Epoch 00007: val_loss did not improve from 0.65216\n",
      "Epoch 8/10\n",
      "7/7 [==============================] - 112s 16s/step - loss: 0.7047 - accuracy: 0.7673 - val_loss: 0.7576 - val_accuracy: 0.8000\n",
      "\n",
      "Epoch 00008: val_loss did not improve from 0.65216\n",
      "Epoch 9/10\n",
      "7/7 [==============================] - 110s 16s/step - loss: 0.5968 - accuracy: 0.7640 - val_loss: 1.0628 - val_accuracy: 0.7143\n",
      "\n",
      "Epoch 00009: val_loss did not improve from 0.65216\n",
      "Epoch 10/10\n",
      "7/7 [==============================] - 112s 16s/step - loss: 0.6397 - accuracy: 0.7929 - val_loss: 0.8971 - val_accuracy: 0.7429\n",
      "\n",
      "Epoch 00010: val_loss did not improve from 0.65216\n",
      "3/3 [==============================] - 12s 4s/step - loss: 1.0732 - accuracy: 0.7403\n",
      "Val Score:  [1.0731867551803589, 0.7402597665786743]\n",
      "3/3 [==============================] - 12s 4s/step - loss: 1.0732 - accuracy: 0.7403\n",
      "====================================================================================\n",
      "\n",
      "\n"
     ]
    }
   ],
   "source": [
    "# Definimos el criterio de early stopping\n",
    "pat = 5 # Este es el número de épocas sin mejora después de las cuales el entrenamiento parará\n",
    "early_stopping = EarlyStopping(monitor='val_loss', patience=pat, verbose=1)\n",
    "\n",
    "# Definimos el checkpoint callback del modelo \n",
    "model_checkpoint = ModelCheckpoint('Final_VGG16.h5', verbose=1, save_best_only=True)\n",
    "history = []\n",
    "score = []\n",
    "score_history = []\n",
    "def fit_and_evaluate(t_x, val_x, t_y, val_y, EPOCHS=20, BATCH_SIZE=100):\n",
    "    model.compile(optimizer=Adam(lr=0.001), loss = 'categorical_crossentropy', metrics = ['accuracy']) \n",
    "    vgg = model.fit(t_x, t_y, epochs = 10, batch_size=BATCH_SIZE, callbacks=[early_stopping, model_checkpoint], \n",
    "              verbose=1, validation_split=0.1) \n",
    "    \n",
    "    print(\"Val Score: \", model.evaluate(val_x, val_y))\n",
    "    score.append(model.evaluate(val_x, val_y)[1])\n",
    "    return vgg, score\n",
    "\n",
    "#n_folds=10\n",
    "epochs=20\n",
    "batch_size=100\n",
    "\n",
    "t_x, val_x, t_y, val_y = train_test_split(train_data, train_labels, test_size=0.1, \n",
    "                                           random_state = np.random.randint(1,1000, 1)[0])\n",
    "\n",
    "model_history, score_hist = fit_and_evaluate(t_x, val_x, t_y, val_y, epochs, batch_size)\n",
    "print(\"=======\"*12, end=\"\\n\\n\\n\")\n",
    "history.append(model_history)\n",
    "score_history.append(score_hist)"
   ]
  },
  {
   "cell_type": "markdown",
   "id": "f58eae23",
   "metadata": {},
   "source": [
    "Evaluamos el modelo con los datos de test"
   ]
  },
  {
   "cell_type": "code",
   "execution_count": 21,
   "id": "46fa8adc",
   "metadata": {},
   "outputs": [
    {
     "name": "stdout",
     "output_type": "stream",
     "text": [
      "7/7 [==============================] - 31s 4s/step - loss: 1.6975 - accuracy: 0.5282\n",
      "\n",
      " loss : 169.75\n",
      "\n",
      " accuracy : 52.82\n"
     ]
    }
   ],
   "source": [
    "# Evaluacion basica de la accuracy\n",
    "v = model.evaluate(test_data, test_labels)\n",
    "w = model.metrics_names\n",
    "\n",
    "for t in range (len(w)):\n",
    "    print(\"\\n\", w[t],\":\", np.round(v[t]*100,2))"
   ]
  },
  {
   "cell_type": "markdown",
   "id": "9871fe05",
   "metadata": {},
   "source": [
    "Hacemos la predicción de los datos de test y calculamos la precisión, el recall, el f1-score y el support"
   ]
  },
  {
   "cell_type": "code",
   "execution_count": 23,
   "id": "a158909b",
   "metadata": {},
   "outputs": [
    {
     "name": "stdout",
     "output_type": "stream",
     "text": [
      "VGG16 MODEL\n",
      "              precision    recall  f1-score   support\n",
      "\n",
      "           0       0.94      0.74      0.83        39\n",
      "           1       0.48      0.79      0.60        39\n",
      "           2       0.42      0.44      0.43        39\n",
      "           3       0.44      0.28      0.34        39\n",
      "           4       0.43      0.38      0.41        39\n",
      "\n",
      "    accuracy                           0.53       195\n",
      "   macro avg       0.54      0.53      0.52       195\n",
      "weighted avg       0.54      0.53      0.52       195\n",
      "\n"
     ]
    }
   ],
   "source": [
    "# Obtencion de la precison, recall, f1-score y support por cada clase\n",
    "test_pred = model.predict(test_data)\n",
    "test_pred_de = np.argmax(test_pred,axis=1)\n",
    "test_labels_de = np.argmax(test_labels, axis=1)\n",
    "print('VGG16 MODEL')\n",
    "print(classification_report(test_labels_de, test_pred_de))"
   ]
  },
  {
   "cell_type": "markdown",
   "id": "72dfd93f",
   "metadata": {},
   "source": [
    "Calculamos las curvas ROC y la matriz de confusión"
   ]
  },
  {
   "cell_type": "code",
   "execution_count": 24,
   "id": "8c8a2ee0",
   "metadata": {},
   "outputs": [
    {
     "name": "stderr",
     "output_type": "stream",
     "text": [
      "/var/folders/8t/60tzsb9x2p1_hm55m00nhbgh0000gn/T/ipykernel_27503/1664747380.py:26: DeprecationWarning: scipy.interp is deprecated and will be removed in SciPy 2.0.0, use numpy.interp instead\n",
      "  mean_tpr += interp(all_fpr, fpr[i], tpr[i])\n"
     ]
    },
    {
     "data": {
      "image/png": "[encoded data removed]",
      "text/plain": [
       "<Figure size 432x288 with 1 Axes>"
      ]
     },
     "metadata": {
      "needs_background": "light"
     },
     "output_type": "display_data"
    }
   ],
   "source": [
    "# Calculo de las curvas roc por clase\n",
    "from sklearn.metrics import roc_curve, auc\n",
    "from scipy import interp\n",
    "from itertools import cycle\n",
    "\n",
    "lw = 2\n",
    "fpr = dict()\n",
    "tpr = dict()\n",
    "roc_auc = dict()\n",
    "n_classes=[0,1,2,3,4]\n",
    "\n",
    "for i in n_classes:\n",
    "    fpr[i], tpr[i], _ = roc_curve(test_labels[:, i], test_pred[:, i])\n",
    "    roc_auc[i] = auc(fpr[i], tpr[i])\n",
    "\n",
    "# Calculamos el micro-average de la curva ROC y el área ROC\n",
    "fpr[\"micro\"], tpr[\"micro\"], _ = roc_curve(test_labels.ravel(), test_pred.ravel())\n",
    "roc_auc[\"micro\"] = auc(fpr[\"micro\"], tpr[\"micro\"])\n",
    "\n",
    "# Agregamos primero todos los falsos positivos\n",
    "all_fpr = np.unique(np.concatenate([fpr[i] for i in n_classes]))\n",
    "\n",
    "# Ahora interpolamos todas la curvas roc en estos puntos\n",
    "mean_tpr = np.zeros_like(all_fpr)\n",
    "for i in n_classes:\n",
    "    mean_tpr += interp(all_fpr, fpr[i], tpr[i])\n",
    "\n",
    "# Finalmente hacemos la media y calculamos AUC\n",
    "mean_tpr /= len(n_classes)\n",
    "\n",
    "fpr[\"macro\"] = all_fpr\n",
    "tpr[\"macro\"] = mean_tpr\n",
    "roc_auc[\"macro\"] = auc(fpr[\"macro\"], tpr[\"macro\"])\n",
    "\n",
    "colors = cycle(['aqua', 'darkorange', 'cornflowerblue','green','red'])\n",
    "d={0:\"sin rd\", 1:\"leve\", 2:\"moderada\", 3: \"grave\", 4:\"proliferativa\"}\n",
    "for i, color in zip(n_classes, colors):\n",
    "    plt.plot(fpr[i], tpr[i], color=color, lw=lw,\n",
    "             label='{0} (A={1:0.2f})'\n",
    "             ''.format(d[i], roc_auc[i]))\n",
    "\n",
    "plt.plot([0, 1], [0, 1], 'k--', lw=lw)\n",
    "plt.xlim([0.0, 1.0])\n",
    "plt.ylim([0.0, 1.05])\n",
    "plt.title('ROC curves using VGG16 model')\n",
    "plt.xlabel('False Positive Rate')\n",
    "plt.ylabel('True Positive Rate')\n",
    "plt.legend(loc=\"lower right\")\n",
    "plt.show()"
   ]
  },
  {
   "cell_type": "code",
   "execution_count": 25,
   "id": "3cee42f4",
   "metadata": {},
   "outputs": [
    {
     "data": {
      "image/png": "[encoded data removed]",
      "text/plain": [
       "<Figure size 540x540 with 1 Axes>"
      ]
     },
     "metadata": {
      "needs_background": "light"
     },
     "output_type": "display_data"
    }
   ],
   "source": [
    "# Calculamos la matriz de confusión\n",
    "mat_con = (confusion_matrix(test_labels_de, test_pred_de, labels=[0, 1,2,3,4]))\n",
    "fig, px = plt.subplots(figsize=(7.5, 7.5))\n",
    "px.matshow(mat_con, cmap=plt.cm.YlOrRd, alpha=0.5)\n",
    "for m in range(mat_con.shape[0]):\n",
    "    for n in range(mat_con.shape[1]):\n",
    "        px.text(x=m,y=n,s=mat_con[m, n], va='center', ha='center', size='xx-large')\n",
    "plt.xlabel('Predictions', fontsize=16)\n",
    "plt.ylabel('Reals', fontsize=16)\n",
    "plt.title('Confusion Matrix', fontsize=15)\n",
    "plt.show()"
   ]
  },
  {
   "cell_type": "code",
   "execution_count": null,
   "id": "686554a5",
   "metadata": {},
   "outputs": [],
   "source": []
  }
 ],
 "metadata": {
  "kernelspec": {
   "display_name": "Python 3 (ipykernel)",
   "language": "python",
   "name": "python3"
  },
  "language_info": {
   "codemirror_mode": {
    "name": "ipython",
    "version": 3
   },
   "file_extension": ".py",
   "mimetype": "text/x-python",
   "name": "python",
   "nbconvert_exporter": "python",
   "pygments_lexer": "ipython3",
   "version": "3.8.8"
  }
 },
 "nbformat": 4,
 "nbformat_minor": 5
}
