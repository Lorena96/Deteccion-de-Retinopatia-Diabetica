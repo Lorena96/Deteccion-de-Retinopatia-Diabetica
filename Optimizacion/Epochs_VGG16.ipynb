{
 "cells": [
  {
   "cell_type": "markdown",
   "id": "4669f7bd",
   "metadata": {},
   "source": [
    "Librerías necesarias:"
   ]
  },
  {
   "cell_type": "code",
   "execution_count": 1,
   "id": "f558438a",
   "metadata": {},
   "outputs": [],
   "source": [
    "import numpy as np \n",
    "import pandas as pd\n",
    "import os\n",
    "import cv2\n",
    "import matplotlib.pyplot as plt\n",
    "import csv\n",
    "from PIL import Image\n",
    "from sklearn.metrics import roc_curve, auc\n",
    "from scipy import interp\n",
    "from itertools import cycle\n",
    "from sklearn.metrics import confusion_matrix\n",
    "#from scipy import stats\n",
    "#KERAS\n",
    "import h5py\n",
    "import keras\n",
    "from keras.models import Sequential\n",
    "from keras.layers import Dense, Conv2D, MaxPooling2D, Dropout, Flatten\n",
    "from tensorflow.keras.utils import to_categorical\n",
    "from keras import optimizers\n",
    "from sklearn.metrics import classification_report\n",
    "import collections\n",
    "from keras.models import model_from_json\n",
    "from tqdm import tqdm\n",
    "from sklearn.model_selection import train_test_split\n",
    "from keras.callbacks import ModelCheckpoint, EarlyStopping\n",
    "import keras.backend as K\n",
    "import tensorflow as tf\n",
    "from tensorflow.keras.preprocessing.image import ImageDataGenerator \n",
    "from tensorflow.keras import layers \n",
    "from tensorflow.keras import Model \n",
    "from tensorflow.keras.applications.vgg16 import VGG16\n",
    "from tensorflow.keras.optimizers import Adam"
   ]
  },
  {
   "cell_type": "markdown",
   "id": "f307906c",
   "metadata": {},
   "source": [
    "Leemos el directorio y contamos cuántas imágenes hay"
   ]
  },
  {
   "cell_type": "code",
   "execution_count": 2,
   "id": "c56827b0",
   "metadata": {},
   "outputs": [],
   "source": [
    "directoris = []\n",
    "contador = []\n",
    "fitxers = []\n",
    "path_img = []\n",
    "\n",
    "#Devuelve el path a las imágenes (path_img), el nombre de las imágenes (fitxers) y la cantidad (contador)\n",
    "for dirname, _, filenames in os.walk('/Volumes/Lorena/APTOS/aptos2019-blindness-detection/train_images',followlinks=False):\n",
    "    directoris.append(os.path.join(dirname))\n",
    "    for i in filenames:\n",
    "        if not '._' in i:\n",
    "            fitxers.append(i)\n",
    "            path_img.append(dirname+\"/\"+i)\n",
    "    contador.append(dirname+': CONTÉ '+str(len(fitxers)) + ' FOTOS')"
   ]
  },
  {
   "cell_type": "code",
   "execution_count": 3,
   "id": "689372b5",
   "metadata": {},
   "outputs": [],
   "source": [
    "# Cargamos el train.csv\n",
    "csv_train = open('/Volumes/Lorena/APTOS/aptos2019-blindness-detection/train.csv')\n",
    "csvreader = csv.reader(csv_train)\n",
    "rows = []\n",
    "for row in csvreader:\n",
    "        rows.append(row)"
   ]
  },
  {
   "cell_type": "markdown",
   "id": "98b797a9",
   "metadata": {},
   "source": [
    "Creamos los sets de imágenes y etiquetas"
   ]
  },
  {
   "cell_type": "code",
   "execution_count": 4,
   "id": "9b73efab",
   "metadata": {},
   "outputs": [],
   "source": [
    "data = []\n",
    "labels = []\n",
    "# recorremos los paths de las imágenes y de las filas del csv, buscamos el nombre de la imágen en el\n",
    "#csv y creamos dos sets de datos con las imágenes y la etiqueta correspondiente en la misma posición\n",
    "for imagePath in path_img:\n",
    "    #print(imagePath)\n",
    "    if not '._' in imagePath:\n",
    "        for row in rows:\n",
    "            item = imagePath.split(os.path.sep)[-1]\n",
    "            if item[0:item.find('.')] in row[0] and item[1]!='_' :\n",
    "                # leemos la imagen\n",
    "                image = cv2.imread(imagePath)\n",
    "                image = cv2.resize(image, (256, 256), interpolation=cv2.INTER_LINEAR)\n",
    "                # creamos los arrays de imágenes y etiquetas\n",
    "                data.append(image)\n",
    "                labels.append(row[0][(row[0].find(';'))+1:])"
   ]
  },
  {
   "cell_type": "code",
   "execution_count": 5,
   "id": "ab47c42f",
   "metadata": {},
   "outputs": [
    {
     "data": {
      "text/plain": [
       "3648"
      ]
     },
     "execution_count": 5,
     "metadata": {},
     "output_type": "execute_result"
    }
   ],
   "source": [
    "len(data)"
   ]
  },
  {
   "cell_type": "markdown",
   "id": "d226948b",
   "metadata": {},
   "source": [
    "Procesamos las imágenes recortando los bordes y aplicando filtro gausiano"
   ]
  },
  {
   "cell_type": "code",
   "execution_count": 6,
   "id": "29fbaaed",
   "metadata": {},
   "outputs": [],
   "source": [
    "#Función que recorta los bordes de las imágenes \n",
    "def crop_border(img):\n",
    "    gray_img = cv2.cvtColor(img, cv2.COLOR_BGR2GRAY)\n",
    "    mask = gray_img > 7       \n",
    "    check_shape = img[:,:,0][np.ix_(mask.any(1),mask.any(0))].shape[0]\n",
    "    if (check_shape == 0):\n",
    "        return img\n",
    "    else:\n",
    "        img1=img[:,:,0][np.ix_(mask.any(1),mask.any(0))]\n",
    "        img2=img[:,:,1][np.ix_(mask.any(1),mask.any(0))]\n",
    "        img3=img[:,:,2][np.ix_(mask.any(1),mask.any(0))]\n",
    "        img = np.stack([img1,img2,img3],axis=-1)\n",
    "    return img"
   ]
  },
  {
   "cell_type": "code",
   "execution_count": 7,
   "id": "711dc6aa",
   "metadata": {},
   "outputs": [],
   "source": [
    "processed_data = []\n",
    "for img in data:\n",
    "    image = img\n",
    "    # Cortamos los bordes\n",
    "    image = crop_border(image)\n",
    "    image = cv2.resize(image, (256, 256))\n",
    "    # Aplicamos GaussianBlur\n",
    "    blurred = cv2.blur(image, ksize=(int(256 / 6), int(256 / 6)))\n",
    "    image_blur = cv2.addWeighted(image, 4, cv2.GaussianBlur( image , (0,0) , 10) ,-4 ,128)\n",
    "    processed_data.append(image_blur)"
   ]
  },
  {
   "cell_type": "markdown",
   "id": "4e183a4f",
   "metadata": {},
   "source": [
    "Balanceamos los datos"
   ]
  },
  {
   "cell_type": "code",
   "execution_count": 8,
   "id": "ffcfc270",
   "metadata": {},
   "outputs": [
    {
     "data": {
      "text/plain": [
       "{'0': 1796, '1': 369, '2': 995, '3': 193, '4': 295}"
      ]
     },
     "execution_count": 8,
     "metadata": {},
     "output_type": "execute_result"
    }
   ],
   "source": [
    "unique, counts = np.unique(labels, return_counts=True)\n",
    "dict(zip(unique, counts))\n"
   ]
  },
  {
   "cell_type": "code",
   "execution_count": 9,
   "id": "878b9665",
   "metadata": {},
   "outputs": [
    {
     "name": "stdout",
     "output_type": "stream",
     "text": [
      "Minimo support:  193\n"
     ]
    }
   ],
   "source": [
    "minimo=min(counts)\n",
    "print(\"Minimo support: \", minimo) #cogemos el minimo para equiparar la data de cada label"
   ]
  },
  {
   "cell_type": "code",
   "execution_count": 10,
   "id": "5a675ddb",
   "metadata": {
    "scrolled": true
   },
   "outputs": [],
   "source": [
    "lab_0=0; lab_1=0; lab_2=0; lab_3=0; lab_4=0\n",
    "ind_0=[]; ind_1=[]; ind_2=[]; ind_3=[]; ind_4=[]\n",
    "\n",
    "for a in range(len(labels)): #hacemos cinco listas de los indices de cada label de longitud=minimo\n",
    "    if (labels[a]=='0' and lab_0<minimo):\n",
    "        lab_0+=1\n",
    "        ind_0.append(a)\n",
    "    if (labels[a]=='1' and lab_1<minimo):\n",
    "        lab_1+=1\n",
    "        ind_1.append(a)\n",
    "    if (labels[a]=='2' and lab_2<minimo):\n",
    "        lab_2+=1\n",
    "        ind_2.append(a)\n",
    "    if (labels[a]=='3' and lab_3<minimo):\n",
    "        lab_3+=1\n",
    "        ind_3.append(a)\n",
    "    if (labels[a]=='4' and lab_4<minimo):\n",
    "        lab_4+=1\n",
    "        ind_4.append(a)"
   ]
  },
  {
   "cell_type": "markdown",
   "id": "0382069a",
   "metadata": {},
   "source": [
    "Creamos los conjuntos de entrenamiento, validación y prueba"
   ]
  },
  {
   "cell_type": "code",
   "execution_count": 11,
   "id": "635552c9",
   "metadata": {},
   "outputs": [
    {
     "name": "stdout",
     "output_type": "stream",
     "text": [
      "Lista train: 770  test:  195 \n",
      "Total lista:  965  minimo total: 965\n",
      "<class 'numpy.ndarray'>\n",
      "(770, 256, 256, 3)\n",
      "<class 'numpy.ndarray'>\n",
      "(770, 5)\n",
      "Shape of labels (770, 5) shape of data train (770, 256, 256, 3) shape of test train (195, 256, 256, 3)\n"
     ]
    }
   ],
   "source": [
    "data_arr = np.array(processed_data)\n",
    "labels_arr = np.array(labels)\n",
    "\n",
    "final = int(minimo*0.8)\n",
    "\n",
    "#se separa la data en train y test\n",
    "ind_Train = ind_0[:final] + ind_1[:final] + ind_2[:final] + ind_3[:final] + ind_4[:final] \n",
    "ind_Test =  ind_0[final:] + ind_1[final:] + ind_2[final:] + ind_3[final:] + ind_4[final:]\n",
    "\n",
    "print(\"Lista train:\", len(ind_Train),\" test: \", len(ind_Test),\"\\nTotal lista: \", len(ind_Train)+len(ind_Test), \" minimo total:\", minimo*5)\n",
    "\n",
    "Train = ind_Train + ind_Test\n",
    "\n",
    "Train_Data = data_arr[Train, :, :, :] #Todos los datos (train + test)\n",
    "Train_Labels = to_categorical(np.array(labels_arr[Train])) #Todos las etiquetas (train + test)\n",
    "\n",
    "indTrainP = np.random.permutation(ind_Train)\n",
    "indTestP = np.random.permutation(ind_Test) \n",
    " \n",
    "       \n",
    "train_data = data_arr[indTrainP, :, :, :] #Datos con el 80% de los datos (train)\n",
    "print(type(train_data))\n",
    "print(np.shape(train_data))\n",
    "train_labels = to_categorical(np.array(labels_arr[indTrainP])) \n",
    "print(type(train_labels))\n",
    "print(np.shape(train_labels))\n",
    "test_data = data_arr[indTestP, :, :, :] #Datos con el 20% de los datos (test)\n",
    "test_labels = to_categorical(np.array(labels_arr[indTestP])) #etiquetas de test codificadas (x,4)\n",
    "print(\"Shape of labels\", train_labels.shape, \"shape of data train\", train_data.shape, \"shape of test train\", test_data.shape)"
   ]
  },
  {
   "cell_type": "code",
   "execution_count": 12,
   "id": "95ad8e3f",
   "metadata": {},
   "outputs": [
    {
     "name": "stdout",
     "output_type": "stream",
     "text": [
      "counter test Counter({1: 39, 4: 39, 2: 39, 0: 39, 3: 39})\n",
      "counter train Counter({3: 154, 0: 154, 2: 154, 1: 154, 4: 154})\n"
     ]
    }
   ],
   "source": [
    "#Para comprobar que el número es el mismo\n",
    "counterT=collections.Counter(np.argmax(test_labels,axis=1))\n",
    "print(\"counter test\", counterT)\n",
    "\n",
    "counterTR=collections.Counter(np.argmax(train_labels,axis=1))\n",
    "print(\"counter train\", counterTR)"
   ]
  },
  {
   "cell_type": "markdown",
   "id": "f4cb0e2e",
   "metadata": {},
   "source": [
    "Creamos el modelo y entrenamos"
   ]
  },
  {
   "cell_type": "code",
   "execution_count": 13,
   "id": "935c4fb9",
   "metadata": {},
   "outputs": [
    {
     "name": "stderr",
     "output_type": "stream",
     "text": [
      "2022-05-27 13:05:17.731957: I tensorflow/core/platform/cpu_feature_guard.cc:142] This TensorFlow binary is optimized with oneAPI Deep Neural Network Library (oneDNN) to use the following CPU instructions in performance-critical operations:  AVX2 FMA\n",
      "To enable them in other operations, rebuild TensorFlow with the appropriate compiler flags.\n"
     ]
    }
   ],
   "source": [
    "# Modelo en red preentrenada\n",
    "base_model = VGG16(input_shape = (256, 256, 3), # El tamaño de nuestras imágenes\n",
    "include_top = False, # Quitamos la última capa totalmente conectada\n",
    "weights = 'imagenet')\n",
    "\n",
    "for layer in base_model.layers:\n",
    "    layer.trainable = False\n",
    "\n",
    "# Aplanamos la capa de salida del modelo a una sola dimension\n",
    "x = layers.Flatten()(base_model.output)\n",
    "\n",
    "# Añadimos una capa totalmente conectada con 1024 neuronas y una activación ReLU\n",
    "x = layers.Dense(1024, activation='relu')(x)\n",
    "\n",
    "# Añadimos una dropout de 0.5\n",
    "x = layers.Dropout(0.5)(x)\n",
    "\n",
    "# Añadimos una capa densa con una activación softmax para que de un vector de probabilidades en la salida por cada clase\n",
    "x = layers.Dense(5, activation='softmax')(x)\n",
    "\n",
    "model = tf.keras.models.Model(base_model.input, x)"
   ]
  },
  {
   "cell_type": "markdown",
   "id": "489841a6",
   "metadata": {},
   "source": [
    "Se entrena con un optimizador Adam, con un ratio de apredizaje de 0.001 y un batch size de 100, ya que se ha validado que son los hiperparámetros que dan mejores resultados"
   ]
  },
  {
   "cell_type": "code",
   "execution_count": 14,
   "id": "eefb81e8",
   "metadata": {
    "scrolled": true
   },
   "outputs": [
    {
     "name": "stderr",
     "output_type": "stream",
     "text": [
      "/opt/anaconda3/lib/python3.8/site-packages/keras/optimizer_v2/optimizer_v2.py:355: UserWarning: The `lr` argument is deprecated, use `learning_rate` instead.\n",
      "  warnings.warn(\n",
      "2022-05-27 13:05:22.371045: I tensorflow/compiler/mlir/mlir_graph_optimization_pass.cc:185] None of the MLIR Optimization Passes are enabled (registered 2)\n"
     ]
    },
    {
     "name": "stdout",
     "output_type": "stream",
     "text": [
      "Epoch 1/100\n",
      "7/7 [==============================] - 111s 15s/step - loss: 170.5691 - accuracy: 0.2408 - val_loss: 87.6766 - val_accuracy: 0.4571\n",
      "\n",
      "Epoch 00001: val_loss improved from inf to 87.67659, saving model to Final_VGG16.h5\n",
      "Epoch 2/100\n",
      "7/7 [==============================] - 109s 16s/step - loss: 62.5991 - accuracy: 0.5120 - val_loss: 41.1906 - val_accuracy: 0.5571\n",
      "\n",
      "Epoch 00002: val_loss improved from 87.67659 to 41.19064, saving model to Final_VGG16.h5\n",
      "Epoch 3/100\n",
      "7/7 [==============================] - 109s 16s/step - loss: 28.7612 - accuracy: 0.6260 - val_loss: 18.2935 - val_accuracy: 0.5286\n",
      "\n",
      "Epoch 00003: val_loss improved from 41.19064 to 18.29353, saving model to Final_VGG16.h5\n",
      "Epoch 4/100\n",
      "7/7 [==============================] - 110s 16s/step - loss: 11.1242 - accuracy: 0.6998 - val_loss: 10.2027 - val_accuracy: 0.6000\n",
      "\n",
      "Epoch 00004: val_loss improved from 18.29353 to 10.20272, saving model to Final_VGG16.h5\n",
      "Epoch 5/100\n",
      "7/7 [==============================] - 113s 16s/step - loss: 5.3477 - accuracy: 0.7833 - val_loss: 7.6244 - val_accuracy: 0.6286\n",
      "\n",
      "Epoch 00005: val_loss improved from 10.20272 to 7.62442, saving model to Final_VGG16.h5\n",
      "Epoch 6/100\n",
      "7/7 [==============================] - 116s 16s/step - loss: 2.7786 - accuracy: 0.8379 - val_loss: 4.7381 - val_accuracy: 0.6286\n",
      "\n",
      "Epoch 00006: val_loss improved from 7.62442 to 4.73807, saving model to Final_VGG16.h5\n",
      "Epoch 7/100\n",
      "7/7 [==============================] - 112s 16s/step - loss: 0.7950 - accuracy: 0.8796 - val_loss: 3.1421 - val_accuracy: 0.5857\n",
      "\n",
      "Epoch 00007: val_loss improved from 4.73807 to 3.14208, saving model to Final_VGG16.h5\n",
      "Epoch 8/100\n",
      "7/7 [==============================] - 109s 16s/step - loss: 0.8994 - accuracy: 0.8844 - val_loss: 3.2283 - val_accuracy: 0.6000\n",
      "\n",
      "Epoch 00008: val_loss did not improve from 3.14208\n",
      "Epoch 9/100\n",
      "7/7 [==============================] - 112s 16s/step - loss: 0.6067 - accuracy: 0.9230 - val_loss: 3.0452 - val_accuracy: 0.6000\n",
      "\n",
      "Epoch 00009: val_loss improved from 3.14208 to 3.04522, saving model to Final_VGG16.h5\n",
      "Epoch 10/100\n",
      "7/7 [==============================] - 110s 16s/step - loss: 0.4483 - accuracy: 0.9294 - val_loss: 2.3277 - val_accuracy: 0.6857\n",
      "\n",
      "Epoch 00010: val_loss improved from 3.04522 to 2.32771, saving model to Final_VGG16.h5\n",
      "Epoch 11/100\n",
      "7/7 [==============================] - 109s 16s/step - loss: 0.2976 - accuracy: 0.9422 - val_loss: 2.1055 - val_accuracy: 0.7000\n",
      "\n",
      "Epoch 00011: val_loss improved from 2.32771 to 2.10549, saving model to Final_VGG16.h5\n",
      "Epoch 12/100\n",
      "7/7 [==============================] - 110s 16s/step - loss: 0.3613 - accuracy: 0.9518 - val_loss: 3.0662 - val_accuracy: 0.6429\n",
      "\n",
      "Epoch 00012: val_loss did not improve from 2.10549\n",
      "Epoch 13/100\n",
      "7/7 [==============================] - 120s 17s/step - loss: 0.3195 - accuracy: 0.9502 - val_loss: 2.2004 - val_accuracy: 0.6857\n",
      "\n",
      "Epoch 00013: val_loss did not improve from 2.10549\n",
      "Epoch 14/100\n",
      "7/7 [==============================] - 111s 16s/step - loss: 0.4071 - accuracy: 0.9438 - val_loss: 2.0925 - val_accuracy: 0.6857\n",
      "\n",
      "Epoch 00014: val_loss improved from 2.10549 to 2.09254, saving model to Final_VGG16.h5\n",
      "Epoch 15/100\n",
      "7/7 [==============================] - 108s 16s/step - loss: 0.2424 - accuracy: 0.9502 - val_loss: 1.9985 - val_accuracy: 0.7000\n",
      "\n",
      "Epoch 00015: val_loss improved from 2.09254 to 1.99852, saving model to Final_VGG16.h5\n",
      "Epoch 16/100\n",
      "7/7 [==============================] - 106s 15s/step - loss: 0.1659 - accuracy: 0.9647 - val_loss: 2.0069 - val_accuracy: 0.7000\n",
      "\n",
      "Epoch 00016: val_loss did not improve from 1.99852\n",
      "Epoch 17/100\n",
      "7/7 [==============================] - 119s 17s/step - loss: 0.1184 - accuracy: 0.9615 - val_loss: 1.9454 - val_accuracy: 0.7286\n",
      "\n",
      "Epoch 00017: val_loss improved from 1.99852 to 1.94544, saving model to Final_VGG16.h5\n",
      "Epoch 18/100\n",
      "7/7 [==============================] - 115s 16s/step - loss: 0.1136 - accuracy: 0.9711 - val_loss: 2.1583 - val_accuracy: 0.6286\n",
      "\n",
      "Epoch 00018: val_loss did not improve from 1.94544\n",
      "Epoch 19/100\n",
      "7/7 [==============================] - 111s 16s/step - loss: 0.1171 - accuracy: 0.9631 - val_loss: 2.2534 - val_accuracy: 0.6429\n",
      "\n",
      "Epoch 00019: val_loss did not improve from 1.94544\n",
      "Epoch 20/100\n",
      "7/7 [==============================] - 111s 16s/step - loss: 0.1362 - accuracy: 0.9695 - val_loss: 2.5013 - val_accuracy: 0.6571\n",
      "\n",
      "Epoch 00020: val_loss did not improve from 1.94544\n",
      "Epoch 21/100\n",
      "7/7 [==============================] - 111s 16s/step - loss: 0.1663 - accuracy: 0.9711 - val_loss: 2.5905 - val_accuracy: 0.6429\n",
      "\n",
      "Epoch 00021: val_loss did not improve from 1.94544\n",
      "Epoch 22/100\n",
      "7/7 [==============================] - 113s 16s/step - loss: 0.1158 - accuracy: 0.9567 - val_loss: 2.5718 - val_accuracy: 0.6714\n",
      "\n",
      "Epoch 00022: val_loss did not improve from 1.94544\n",
      "Epoch 00022: early stopping\n",
      "3/3 [==============================] - 13s 4s/step - loss: 4.0005 - accuracy: 0.5195\n",
      "Val Score:  [4.000463485717773, 0.5194805264472961]\n",
      "3/3 [==============================] - 13s 4s/step - loss: 4.0005 - accuracy: 0.5195\n",
      "====================================================================================\n",
      "\n",
      "\n"
     ]
    }
   ],
   "source": [
    "# Definimos el criterio de early stopping\n",
    "pat = 5 # Este es el número de épocas sin mejora después de las cuales el entrenamiento parará\n",
    "early_stopping = EarlyStopping(monitor='val_loss', patience=pat, verbose=1)\n",
    "\n",
    "# Definimos el checkpoint callback del modelo \n",
    "model_checkpoint = ModelCheckpoint('Final_VGG16.h5', verbose=1, save_best_only=True)\n",
    "history = []\n",
    "score = []\n",
    "score_history = []\n",
    "def fit_and_evaluate(t_x, val_x, t_y, val_y, EPOCHS, BATCH_SIZE):\n",
    "    model.compile(optimizer=Adam(lr=0.001), loss = 'categorical_crossentropy', metrics = ['accuracy']) \n",
    "    vgg = model.fit(t_x, t_y, epochs = EPOCHS, batch_size=BATCH_SIZE, callbacks=[early_stopping, model_checkpoint], \n",
    "              verbose=1, validation_split=0.1) \n",
    "    \n",
    "    print(\"Val Score: \", model.evaluate(val_x, val_y))\n",
    "    score.append(model.evaluate(val_x, val_y)[1])\n",
    "    return vgg, score\n",
    "\n",
    "#n_folds=10\n",
    "epochs=100\n",
    "batch_size=100\n",
    "\n",
    "t_x, val_x, t_y, val_y = train_test_split(train_data, train_labels, test_size=0.1, \n",
    "                                           random_state = np.random.randint(1,1000, 1)[0])\n",
    "\n",
    "model_history, score_hist = fit_and_evaluate(t_x, val_x, t_y, val_y, epochs, batch_size)\n",
    "print(\"=======\"*12, end=\"\\n\\n\\n\")\n",
    "history.append(model_history)\n",
    "score_history.append(score_hist)"
   ]
  },
  {
   "cell_type": "markdown",
   "id": "efed654c",
   "metadata": {},
   "source": [
    "Observamos los resultados del error y la precisión durante todas las épocas"
   ]
  },
  {
   "cell_type": "code",
   "execution_count": 15,
   "id": "b74af0c7",
   "metadata": {},
   "outputs": [],
   "source": [
    "def acc_plot(history):\n",
    "    plt.plot(history.history['accuracy'])\n",
    "    plt.plot(history.history['val_accuracy'])\n",
    "    plt.title('Model accuracy')\n",
    "    plt.ylabel('Accuracy')\n",
    "    plt.xlabel('Epoch')\n",
    "    plt.legend(['Train_acc', 'Val_acc'], loc='upper left')\n",
    "    plt.show()\n",
    "    \n",
    "def loss_plot(history):\n",
    "    plt.plot(history.history['loss'])\n",
    "    plt.plot(history.history['val_loss']) \n",
    "    plt.title('Model loss') \n",
    "    plt.ylabel('Loss') \n",
    "    plt.xlabel('Epoch') \n",
    "    plt.legend(['Train_loss', 'Val_loss'], loc='upper left') \n",
    "    plt.show()"
   ]
  },
  {
   "cell_type": "code",
   "execution_count": 16,
   "id": "1042369c",
   "metadata": {},
   "outputs": [
    {
     "data": {
      "image/png": "[encoded data removed]",
      "text/plain": [
       "<Figure size 432x288 with 1 Axes>"
      ]
     },
     "metadata": {
      "needs_background": "light"
     },
     "output_type": "display_data"
    }
   ],
   "source": [
    "acc_plot(model_history)"
   ]
  },
  {
   "cell_type": "code",
   "execution_count": 17,
   "id": "c8422fc4",
   "metadata": {},
   "outputs": [
    {
     "data": {
      "image/png": "[encoded data removed]",
      "text/plain": [
       "<Figure size 432x288 with 1 Axes>"
      ]
     },
     "metadata": {
      "needs_background": "light"
     },
     "output_type": "display_data"
    }
   ],
   "source": [
    "loss_plot(model_history)"
   ]
  }
 ],
 "metadata": {
  "kernelspec": {
   "display_name": "Python 3 (ipykernel)",
   "language": "python",
   "name": "python3"
  },
  "language_info": {
   "codemirror_mode": {
    "name": "ipython",
    "version": 3
   },
   "file_extension": ".py",
   "mimetype": "text/x-python",
   "name": "python",
   "nbconvert_exporter": "python",
   "pygments_lexer": "ipython3",
   "version": "3.8.2"
  }
 },
 "nbformat": 4,
 "nbformat_minor": 5
}
