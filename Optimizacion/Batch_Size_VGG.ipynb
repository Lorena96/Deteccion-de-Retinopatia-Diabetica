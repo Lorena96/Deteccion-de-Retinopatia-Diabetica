{
 "cells": [
  {
   "cell_type": "markdown",
   "id": "4669f7bd",
   "metadata": {},
   "source": [
    "Librerías necesarias:"
   ]
  },
  {
   "cell_type": "code",
   "execution_count": 1,
   "id": "f558438a",
   "metadata": {},
   "outputs": [],
   "source": [
    "import numpy as np \n",
    "import pandas as pd\n",
    "import os\n",
    "import cv2\n",
    "import matplotlib.pyplot as plt\n",
    "import csv\n",
    "#from scipy import stats\n",
    "#KERAS\n",
    "import h5py\n",
    "import keras\n",
    "from keras.models import Sequential\n",
    "from keras.layers import Dense, Conv2D, MaxPooling2D, Dropout, Flatten\n",
    "from tensorflow.keras.utils import to_categorical\n",
    "from keras import optimizers\n",
    "from sklearn.metrics import classification_report\n",
    "import collections\n",
    "#np.set_printoptions(threshold=np.inf)\n",
    "from keras.models import model_from_json\n",
    "from tqdm import tqdm\n",
    "from sklearn.model_selection import train_test_split\n",
    "from keras.callbacks import ModelCheckpoint, EarlyStopping\n",
    "import keras.backend as K\n",
    "from PIL import Image\n",
    "import tensorflow as tf \n",
    "from tensorflow.keras.preprocessing.image import ImageDataGenerator \n",
    "from tensorflow.keras import layers \n",
    "from tensorflow.keras import Model \n",
    "from tensorflow.keras.applications.vgg16 import VGG16\n",
    "from tensorflow.keras.applications.inception_v3 import InceptionV3\n",
    "from tensorflow.keras.optimizers import Adam\n",
    "import timeit"
   ]
  },
  {
   "cell_type": "markdown",
   "id": "f307906c",
   "metadata": {},
   "source": [
    "Leemos el directorio y contamos cuántas imágenes hay"
   ]
  },
  {
   "cell_type": "code",
   "execution_count": 2,
   "id": "c56827b0",
   "metadata": {},
   "outputs": [],
   "source": [
    "directoris = []\n",
    "contador = []\n",
    "fitxers = []\n",
    "path_img = []\n",
    "\n",
    "#Devuelve el path a las imágenes (path_img), el nombre de las imágenes (fitxers) y la cantidad (contador)\n",
    "for dirname, _, filenames in os.walk('/Volumes/Lorena/APTOS/aptos2019-blindness-detection/train_images',followlinks=False):\n",
    "    directoris.append(os.path.join(dirname))\n",
    "    for i in filenames:\n",
    "        if not '._' in i:\n",
    "            fitxers.append(i)\n",
    "            path_img.append(dirname+\"/\"+i)\n",
    "    contador.append(dirname+': CONTÉ '+str(len(fitxers)) + ' FOTOS')"
   ]
  },
  {
   "cell_type": "code",
   "execution_count": 3,
   "id": "689372b5",
   "metadata": {},
   "outputs": [],
   "source": [
    "# Cargamos el train.csv\n",
    "csv_train = open('/Volumes/Lorena/APTOS/aptos2019-blindness-detection/train.csv')\n",
    "csvreader = csv.reader(csv_train)\n",
    "rows = []\n",
    "for row in csvreader:\n",
    "        rows.append(row)"
   ]
  },
  {
   "cell_type": "markdown",
   "id": "98b797a9",
   "metadata": {},
   "source": [
    "Creamos los sets de imágens y etiquetas"
   ]
  },
  {
   "cell_type": "code",
   "execution_count": 4,
   "id": "9b73efab",
   "metadata": {},
   "outputs": [],
   "source": [
    "data = []\n",
    "labels = []\n",
    "# recorremos los paths de las imágenes y de las filas del csv, buscamos el nombre de la imágen en el\n",
    "#csv y creamos dos sets de datos con las imágenes y la etiqueta correspondiente en la misma posición\n",
    "for imagePath in path_img:\n",
    "    #print(imagePath)\n",
    "    if not '._' in imagePath:\n",
    "        for row in rows:\n",
    "            item = imagePath.split(os.path.sep)[-1]\n",
    "            if item[0:item.find('.')] in row[0] and item[1]!='_' :\n",
    "                # leemos la imagen\n",
    "                image = cv2.imread(imagePath)\n",
    "                image = cv2.resize(image, (256, 256), interpolation=cv2.INTER_LINEAR)\n",
    "                # creamos los arrays de imágenes y etiquetas\n",
    "                data.append(image)\n",
    "                labels.append(row[0][(row[0].find(';'))+1:])"
   ]
  },
  {
   "cell_type": "markdown",
   "id": "0d9dc401",
   "metadata": {},
   "source": [
    "Procesamos las imágenes recortando los bordes y aplicando filtro gausiano"
   ]
  },
  {
   "cell_type": "code",
   "execution_count": 5,
   "id": "29fbaaed",
   "metadata": {},
   "outputs": [],
   "source": [
    "#Función que recorta los bordes de las imágenes \n",
    "def crop_border(img):\n",
    "    gray_img = cv2.cvtColor(img, cv2.COLOR_BGR2GRAY)\n",
    "    mask = gray_img > 7       \n",
    "    check_shape = img[:,:,0][np.ix_(mask.any(1),mask.any(0))].shape[0]\n",
    "    if (check_shape == 0):\n",
    "        return img\n",
    "    else:\n",
    "        img1=img[:,:,0][np.ix_(mask.any(1),mask.any(0))]\n",
    "        img2=img[:,:,1][np.ix_(mask.any(1),mask.any(0))]\n",
    "        img3=img[:,:,2][np.ix_(mask.any(1),mask.any(0))]\n",
    "        img = np.stack([img1,img2,img3],axis=-1)\n",
    "    return img"
   ]
  },
  {
   "cell_type": "code",
   "execution_count": 6,
   "id": "711dc6aa",
   "metadata": {},
   "outputs": [],
   "source": [
    "processed_data = []\n",
    "for img in data:\n",
    "    image = img\n",
    "    # Cortamos los bordes\n",
    "    image = crop_border(image)\n",
    "    image = cv2.resize(image, (256, 256))\n",
    "    # Aplicamos GaussianBlur\n",
    "    blurred = cv2.blur(image, ksize=(int(256 / 6), int(256 / 6)))\n",
    "    image_blur = cv2.addWeighted(image, 4, cv2.GaussianBlur( image , (0,0) , 10) ,-4 ,128)\n",
    "    processed_data.append(image_blur)"
   ]
  },
  {
   "cell_type": "markdown",
   "id": "2c1661c8",
   "metadata": {},
   "source": [
    "Balanceamos los datos"
   ]
  },
  {
   "cell_type": "code",
   "execution_count": 7,
   "id": "90e58fa6",
   "metadata": {},
   "outputs": [
    {
     "data": {
      "text/plain": [
       "{'0': 1796, '1': 369, '2': 995, '3': 193, '4': 295}"
      ]
     },
     "execution_count": 7,
     "metadata": {},
     "output_type": "execute_result"
    }
   ],
   "source": [
    "unique, counts = np.unique(labels, return_counts=True)\n",
    "dict(zip(unique, counts))\n"
   ]
  },
  {
   "cell_type": "code",
   "execution_count": 8,
   "id": "65cad613",
   "metadata": {},
   "outputs": [
    {
     "name": "stdout",
     "output_type": "stream",
     "text": [
      "Minimo support:  193\n"
     ]
    }
   ],
   "source": [
    "minimo=min(counts)\n",
    "print(\"Minimo support: \", minimo) #cogemos el minimo para equiparar la data de cada label"
   ]
  },
  {
   "cell_type": "code",
   "execution_count": 9,
   "id": "858afa36",
   "metadata": {},
   "outputs": [],
   "source": [
    "fondo=0; necrotico=0; granulado=0; piel=0; esfacelo=0\n",
    "indices_c=[]; indices_u=[]; indices_d=[]; indices_t=[]; indices_q=[]\n"
   ]
  },
  {
   "cell_type": "code",
   "execution_count": 10,
   "id": "5a675ddb",
   "metadata": {
    "scrolled": true
   },
   "outputs": [],
   "source": [
    "lab_0=0; lab_1=0; lab_2=0; lab_3=0; lab_4=0\n",
    "ind_0=[]; ind_1=[]; ind_2=[]; ind_3=[]; ind_4=[]\n",
    "\n",
    "for a in range(len(labels)): #hacemos cinco listas de los indices de cada label de longitud=minimo\n",
    "    if (labels[a]=='0' and lab_0<minimo):\n",
    "        lab_0+=1\n",
    "        ind_0.append(a)\n",
    "    if (labels[a]=='1' and lab_1<minimo):\n",
    "        lab_1+=1\n",
    "        ind_1.append(a)\n",
    "    if (labels[a]=='2' and lab_2<minimo):\n",
    "        lab_2+=1\n",
    "        ind_2.append(a)\n",
    "    if (labels[a]=='3' and lab_3<minimo):\n",
    "        lab_3+=1\n",
    "        ind_3.append(a)\n",
    "    if (labels[a]=='4' and lab_4<minimo):\n",
    "        lab_4+=1\n",
    "        ind_4.append(a)"
   ]
  },
  {
   "cell_type": "markdown",
   "id": "6dfbeabd",
   "metadata": {},
   "source": [
    "Creamos los conjuntos de entrenamiento, validación y prueba"
   ]
  },
  {
   "cell_type": "code",
   "execution_count": 11,
   "id": "635552c9",
   "metadata": {},
   "outputs": [
    {
     "name": "stdout",
     "output_type": "stream",
     "text": [
      "Lista train: 770  test:  195 \n",
      "Total lista:  965  minimo total: 965\n",
      "<class 'numpy.ndarray'>\n",
      "(770, 256, 256, 3)\n",
      "<class 'numpy.ndarray'>\n",
      "(770, 5)\n",
      "Shape of labels (770, 5) shape of data train (770, 256, 256, 3) shape of test train (195, 256, 256, 3)\n"
     ]
    }
   ],
   "source": [
    "data_arr = np.array(processed_data)\n",
    "labels_arr = np.array(labels)\n",
    "\n",
    "final = int(minimo*0.8)\n",
    "\n",
    "#se separa la data en train y test\n",
    "ind_Train = ind_0[:final] + ind_1[:final] + ind_2[:final] + ind_3[:final] + ind_4[:final] \n",
    "ind_Test =  ind_0[final:] + ind_1[final:] + ind_2[final:] + ind_3[final:] + ind_4[final:]\n",
    "\n",
    "print(\"Lista train:\", len(ind_Train),\" test: \", len(ind_Test),\"\\nTotal lista: \", len(ind_Train)+len(ind_Test), \" minimo total:\", minimo*5)\n",
    "\n",
    "Train = ind_Train + ind_Test\n",
    "\n",
    "Train_Data = data_arr[Train, :, :, :] #Todos los datos (train + test)\n",
    "Train_Labels = to_categorical(np.array(labels_arr[Train])) #Todos las etiquetas (train + test)\n",
    "\n",
    "indTrainP = np.random.permutation(ind_Train)\n",
    "indTestP = np.random.permutation(ind_Test) \n",
    " \n",
    "       \n",
    "train_data = data_arr[indTrainP, :, :, :] #Datos con el 80% de los datos (train)\n",
    "print(type(train_data))\n",
    "print(np.shape(train_data))\n",
    "train_labels = to_categorical(np.array(labels_arr[indTrainP])) \n",
    "print(type(train_labels))\n",
    "print(np.shape(train_labels))\n",
    "test_data = data_arr[indTestP, :, :, :] #Datos con el 20% de los datos (test)\n",
    "test_labels = to_categorical(np.array(labels_arr[indTestP])) #etiquetas de test codificadas (x,5)\n",
    "print(\"Shape of labels\", train_labels.shape, \"shape of data train\", train_data.shape, \"shape of test train\", test_data.shape)"
   ]
  },
  {
   "cell_type": "code",
   "execution_count": 12,
   "id": "95ad8e3f",
   "metadata": {},
   "outputs": [
    {
     "name": "stdout",
     "output_type": "stream",
     "text": [
      "counter test Counter({1: 39, 4: 39, 3: 39, 2: 39, 0: 39})\n",
      "counter train Counter({3: 154, 1: 154, 0: 154, 4: 154, 2: 154})\n"
     ]
    }
   ],
   "source": [
    "#PARA COMPROBAR QUE EL NUMERO ES EL MISMO\n",
    "counterT=collections.Counter(np.argmax(test_labels,axis=1))\n",
    "print(\"counter test\", counterT)\n",
    "\n",
    "counterTR=collections.Counter(np.argmax(train_labels,axis=1))\n",
    "print(\"counter train\", counterTR)"
   ]
  },
  {
   "cell_type": "markdown",
   "id": "a2740c25",
   "metadata": {},
   "source": [
    "Creamos el modelo y entrenamos. El entrenamiento se hace con un optimizador Adam y con un ratio de aprendizaje del 0.001, ya que se ha observado que es el que da mejores resultados. En cuanto al tamaño del batch, se busca cuál es el óptimo a nivel de tiempo y de accuracy. "
   ]
  },
  {
   "cell_type": "code",
   "execution_count": 13,
   "id": "935c4fb9",
   "metadata": {},
   "outputs": [
    {
     "name": "stderr",
     "output_type": "stream",
     "text": [
      "2022-05-04 17:43:35.391259: I tensorflow/core/platform/cpu_feature_guard.cc:142] This TensorFlow binary is optimized with oneAPI Deep Neural Network Library (oneDNN) to use the following CPU instructions in performance-critical operations:  AVX2 FMA\n",
      "To enable them in other operations, rebuild TensorFlow with the appropriate compiler flags.\n"
     ]
    }
   ],
   "source": [
    "# Modelo en red preentrenada\n",
    "base_model = InceptionV3(input_shape = (256, 256, 3), # El tamaño de nuestras imágenes\n",
    "include_top = False, # Quitamos la última capa totalmente conectada\n",
    "weights = 'imagenet')\n",
    "\n",
    "for layer in base_model.layers:\n",
    "    layer.trainable = False\n",
    "\n",
    "# Aplanamos la capa de salida del modelo a una sola dimension\n",
    "x = layers.Flatten()(base_model.output)\n",
    "\n",
    "# Añadimos una capa totalmente conectada con 1024 neuronas y una activación ReLU\n",
    "x = layers.Dense(1024, activation='relu')(x)\n",
    "\n",
    "# Añadimos una dropout de 0.5\n",
    "x = layers.Dropout(0.5)(x)\n",
    "\n",
    "# Añadimos una capa densa con una activación softmax para que de un vector de probabilidades en la salida por cada clase\n",
    "x = layers.Dense(5, activation='softmax')(x)\n",
    "\n",
    "model = tf.keras.models.Model(base_model.input, x)"
   ]
  },
  {
   "cell_type": "code",
   "execution_count": 22,
   "id": "c811a29a",
   "metadata": {},
   "outputs": [],
   "source": [
    "#Obtenemos el conjunto de validación con un 10% del de entrenamiento\n",
    "t_x, val_x, t_y, val_y = train_test_split(train_data, train_labels, test_size=0.1, \n",
    "                                           random_state = np.random.randint(1,1000, 1)[0])\n",
    "\n",
    "def modelLrOpt(opt, lrate, batch_s):\n",
    "    acc = []\n",
    "    t = [] \n",
    "    # Definimos el criterio de early stopping\n",
    "    pat = 5 # Este es el número de épocas sin mejora después de las cuales el entrenamiento parará\n",
    "    early_stopping = EarlyStopping(monitor='val_loss', patience=pat, verbose=1)\n",
    "    for bsize in batch_s:\n",
    "        model.compile(loss='categorical_crossentropy', optimizer=opt(lr=lrate), metrics=['accuracy'])\n",
    "        start_time = timeit.default_timer()\n",
    "        history = model.fit(t_x, t_y,validation_data=(val_x, val_y),epochs=20, batch_size=bsize, verbose=1, \n",
    "                            callbacks=[early_stopping])\n",
    "        t.append(timeit.default_timer() - start_time)\n",
    "        acc.append(model.evaluate(test_data, test_labels, verbose=0)[1])\n",
    "\n",
    "    return history, model, t, acc"
   ]
  },
  {
   "cell_type": "code",
   "execution_count": 23,
   "id": "98a433b8",
   "metadata": {
    "scrolled": true
   },
   "outputs": [
    {
     "name": "stdout",
     "output_type": "stream",
     "text": [
      "Training Adam models...\n",
      "Epoch 1/20\n"
     ]
    },
    {
     "name": "stderr",
     "output_type": "stream",
     "text": [
      "/opt/anaconda3/lib/python3.8/site-packages/keras/optimizer_v2/optimizer_v2.py:355: UserWarning: The `lr` argument is deprecated, use `learning_rate` instead.\n",
      "  warnings.warn(\n",
      "2022-05-04 19:25:08.458160: I tensorflow/compiler/mlir/mlir_graph_optimization_pass.cc:185] None of the MLIR Optimization Passes are enabled (registered 2)\n"
     ]
    },
    {
     "name": "stdout",
     "output_type": "stream",
     "text": [
      "35/35 [==============================] - 109s 3s/step - loss: 117.3717 - accuracy: 0.3838 - val_loss: 42.1236 - val_accuracy: 0.4286\n",
      "Epoch 2/20\n",
      "35/35 [==============================] - 110s 3s/step - loss: 22.3688 - accuracy: 0.6205 - val_loss: 13.8224 - val_accuracy: 0.4935\n",
      "Epoch 3/20\n",
      "35/35 [==============================] - 112s 3s/step - loss: 5.3742 - accuracy: 0.7273 - val_loss: 8.5172 - val_accuracy: 0.4805\n",
      "Epoch 4/20\n",
      "35/35 [==============================] - 112s 3s/step - loss: 2.5261 - accuracy: 0.7706 - val_loss: 6.0132 - val_accuracy: 0.4156\n",
      "Epoch 5/20\n",
      "35/35 [==============================] - 113s 3s/step - loss: 1.6325 - accuracy: 0.7864 - val_loss: 3.8263 - val_accuracy: 0.5584\n",
      "Epoch 6/20\n",
      "35/35 [==============================] - 2054s 60s/step - loss: 1.0047 - accuracy: 0.8052 - val_loss: 4.6919 - val_accuracy: 0.5195\n",
      "Epoch 7/20\n",
      "35/35 [==============================] - 109s 3s/step - loss: 0.8713 - accuracy: 0.8167 - val_loss: 2.9090 - val_accuracy: 0.5065\n",
      "Epoch 8/20\n",
      "35/35 [==============================] - 5713s 168s/step - loss: 0.8610 - accuracy: 0.8600 - val_loss: 3.9872 - val_accuracy: 0.5065\n",
      "Epoch 9/20\n",
      "35/35 [==============================] - 117s 3s/step - loss: 0.6440 - accuracy: 0.8528 - val_loss: 3.3682 - val_accuracy: 0.5584\n",
      "Epoch 10/20\n",
      "35/35 [==============================] - 121s 3s/step - loss: 0.6990 - accuracy: 0.8773 - val_loss: 3.2783 - val_accuracy: 0.5065\n",
      "Epoch 11/20\n",
      "35/35 [==============================] - 119s 3s/step - loss: 0.5435 - accuracy: 0.8730 - val_loss: 3.6439 - val_accuracy: 0.5584\n",
      "Epoch 12/20\n",
      "35/35 [==============================] - 115s 3s/step - loss: 0.4423 - accuracy: 0.8831 - val_loss: 3.3694 - val_accuracy: 0.5065\n",
      "Epoch 00012: early stopping\n",
      "Epoch 1/20\n",
      "14/14 [==============================] - 116s 8s/step - loss: 1.5481 - accuracy: 0.8369 - val_loss: 7.2317 - val_accuracy: 0.5455\n",
      "Epoch 2/20\n",
      "14/14 [==============================] - 116s 8s/step - loss: 2.3758 - accuracy: 0.8095 - val_loss: 6.4886 - val_accuracy: 0.5714\n",
      "Epoch 3/20\n",
      "14/14 [==============================] - 117s 8s/step - loss: 2.0335 - accuracy: 0.8196 - val_loss: 4.4109 - val_accuracy: 0.5065\n",
      "Epoch 4/20\n",
      "14/14 [==============================] - 138s 10s/step - loss: 1.3239 - accuracy: 0.8384 - val_loss: 5.7717 - val_accuracy: 0.5065\n",
      "Epoch 5/20\n",
      "14/14 [==============================] - 116s 8s/step - loss: 1.1216 - accuracy: 0.8297 - val_loss: 4.6145 - val_accuracy: 0.5584\n",
      "Epoch 6/20\n",
      "14/14 [==============================] - 115s 8s/step - loss: 1.1925 - accuracy: 0.8283 - val_loss: 5.3075 - val_accuracy: 0.4935\n",
      "Epoch 7/20\n",
      "14/14 [==============================] - 115s 8s/step - loss: 1.0448 - accuracy: 0.8196 - val_loss: 3.6069 - val_accuracy: 0.5325\n",
      "Epoch 8/20\n",
      "14/14 [==============================] - 116s 8s/step - loss: 0.8090 - accuracy: 0.8413 - val_loss: 3.5116 - val_accuracy: 0.5325\n",
      "Epoch 9/20\n",
      "14/14 [==============================] - 213s 16s/step - loss: 0.9399 - accuracy: 0.8240 - val_loss: 2.6057 - val_accuracy: 0.4805\n",
      "Epoch 10/20\n",
      "14/14 [==============================] - 117s 8s/step - loss: 0.6928 - accuracy: 0.8312 - val_loss: 4.3245 - val_accuracy: 0.4935\n",
      "Epoch 11/20\n",
      "14/14 [==============================] - 115s 8s/step - loss: 0.6373 - accuracy: 0.8629 - val_loss: 4.0959 - val_accuracy: 0.5195\n",
      "Epoch 12/20\n",
      "14/14 [==============================] - 116s 8s/step - loss: 0.7420 - accuracy: 0.8456 - val_loss: 2.7904 - val_accuracy: 0.4935\n",
      "Epoch 13/20\n",
      "14/14 [==============================] - 116s 8s/step - loss: 0.4144 - accuracy: 0.8817 - val_loss: 3.0606 - val_accuracy: 0.5195\n",
      "Epoch 14/20\n",
      "14/14 [==============================] - 117s 8s/step - loss: 0.3873 - accuracy: 0.8846 - val_loss: 2.9316 - val_accuracy: 0.5195\n",
      "Epoch 00014: early stopping\n",
      "Epoch 1/20\n",
      "7/7 [==============================] - 126s 17s/step - loss: 0.6851 - accuracy: 0.8629 - val_loss: 4.9049 - val_accuracy: 0.4416\n",
      "Epoch 2/20\n",
      "7/7 [==============================] - 115s 17s/step - loss: 0.6722 - accuracy: 0.8874 - val_loss: 4.3790 - val_accuracy: 0.5714\n",
      "Epoch 3/20\n",
      "7/7 [==============================] - 117s 17s/step - loss: 0.5064 - accuracy: 0.8846 - val_loss: 5.0430 - val_accuracy: 0.5325\n",
      "Epoch 4/20\n",
      "7/7 [==============================] - 120s 18s/step - loss: 0.6259 - accuracy: 0.8629 - val_loss: 3.6306 - val_accuracy: 0.4935\n",
      "Epoch 5/20\n",
      "7/7 [==============================] - 124s 18s/step - loss: 0.3413 - accuracy: 0.9120 - val_loss: 3.2799 - val_accuracy: 0.6364\n",
      "Epoch 6/20\n",
      "7/7 [==============================] - 122s 18s/step - loss: 0.3886 - accuracy: 0.8961 - val_loss: 3.4453 - val_accuracy: 0.6104\n",
      "Epoch 7/20\n",
      "7/7 [==============================] - 124s 18s/step - loss: 0.3429 - accuracy: 0.9163 - val_loss: 4.7575 - val_accuracy: 0.5714\n",
      "Epoch 8/20\n",
      "7/7 [==============================] - 129s 19s/step - loss: 0.4195 - accuracy: 0.9177 - val_loss: 4.0400 - val_accuracy: 0.5844\n",
      "Epoch 9/20\n",
      "7/7 [==============================] - 129s 18s/step - loss: 0.3427 - accuracy: 0.9062 - val_loss: 4.6881 - val_accuracy: 0.5325\n",
      "Epoch 10/20\n",
      "7/7 [==============================] - 126s 18s/step - loss: 0.4569 - accuracy: 0.9134 - val_loss: 5.5816 - val_accuracy: 0.5065\n",
      "Epoch 00010: early stopping\n",
      "Epoch 1/20\n",
      "4/4 [==============================] - 132s 31s/step - loss: 0.4001 - accuracy: 0.9177 - val_loss: 5.8909 - val_accuracy: 0.5584\n",
      "Epoch 2/20\n",
      "4/4 [==============================] - 134s 32s/step - loss: 0.4827 - accuracy: 0.9062 - val_loss: 5.9619 - val_accuracy: 0.5844\n",
      "Epoch 3/20\n",
      "4/4 [==============================] - 155s 38s/step - loss: 0.6153 - accuracy: 0.9105 - val_loss: 6.1463 - val_accuracy: 0.5714\n",
      "Epoch 4/20\n",
      "4/4 [==============================] - 164s 39s/step - loss: 0.4047 - accuracy: 0.9134 - val_loss: 6.3752 - val_accuracy: 0.5584\n",
      "Epoch 5/20\n",
      "4/4 [==============================] - 141s 33s/step - loss: 0.3174 - accuracy: 0.9394 - val_loss: 5.9560 - val_accuracy: 0.5714\n",
      "Epoch 6/20\n",
      "4/4 [==============================] - 132s 32s/step - loss: 0.4281 - accuracy: 0.9423 - val_loss: 5.4747 - val_accuracy: 0.5714\n",
      "Epoch 7/20\n",
      "4/4 [==============================] - 119s 29s/step - loss: 0.2966 - accuracy: 0.9365 - val_loss: 4.5438 - val_accuracy: 0.6104\n",
      "Epoch 8/20\n",
      "4/4 [==============================] - 121s 30s/step - loss: 0.1836 - accuracy: 0.9394 - val_loss: 5.0198 - val_accuracy: 0.5325\n",
      "Epoch 9/20\n",
      "4/4 [==============================] - 124s 30s/step - loss: 0.3811 - accuracy: 0.9336 - val_loss: 5.5697 - val_accuracy: 0.5325\n",
      "Epoch 10/20\n",
      "4/4 [==============================] - 122s 30s/step - loss: 0.1702 - accuracy: 0.9582 - val_loss: 5.4824 - val_accuracy: 0.5714\n",
      "Epoch 11/20\n",
      "4/4 [==============================] - 127s 32s/step - loss: 0.2352 - accuracy: 0.9452 - val_loss: 5.2695 - val_accuracy: 0.5844\n",
      "Epoch 12/20\n",
      "4/4 [==============================] - 134s 32s/step - loss: 0.2027 - accuracy: 0.9553 - val_loss: 4.7843 - val_accuracy: 0.5844\n",
      "Epoch 00012: early stopping\n"
     ]
    }
   ],
   "source": [
    "# Entrenamos con varios tamaños de batch y con el optimizador Adam con un learning rate de 0.001\n",
    "batch = [20,50,100,200]\n",
    "print(\"Training Adam models...\")\n",
    "histAdam, modAdam, tAdam, accAdam = modelLrOpt(Adam, 0.001, batch)"
   ]
  },
  {
   "cell_type": "markdown",
   "id": "7de6db01",
   "metadata": {},
   "source": [
    "Mostramos las gráficas de tiempo y de accuracy en función de los tamaños del batch utilizados"
   ]
  },
  {
   "cell_type": "code",
   "execution_count": 26,
   "id": "cb4c48dc",
   "metadata": {},
   "outputs": [
    {
     "data": {
      "image/png": "[encoded data removed]",
      "text/plain": [
       "<Figure size 432x288 with 1 Axes>"
      ]
     },
     "metadata": {
      "needs_background": "light"
     },
     "output_type": "display_data"
    },
    {
     "data": {
      "image/png": "[encoded data removed]",
      "text/plain": [
       "<Figure size 432x288 with 1 Axes>"
      ]
     },
     "metadata": {
      "needs_background": "light"
     },
     "output_type": "display_data"
    }
   ],
   "source": [
    "plt.plot(batch, tAdam, marker=\"o\")\n",
    "plt.title('Batch size training times')\n",
    "plt.ylabel('Training time (s)')\n",
    "plt.xlabel('Batch Size')\n",
    "plt.show()\n",
    "\n",
    "plt.plot(batch, accAdam, marker=\"o\")\n",
    "plt.title('Batch size accuracies')\n",
    "plt.ylabel('Accuracy')\n",
    "plt.xlabel('Batch Size')\n",
    "plt.show()"
   ]
  }
 ],
 "metadata": {
  "kernelspec": {
   "display_name": "Python 3 (ipykernel)",
   "language": "python",
   "name": "python3"
  },
  "language_info": {
   "codemirror_mode": {
    "name": "ipython",
    "version": 3
   },
   "file_extension": ".py",
   "mimetype": "text/x-python",
   "name": "python",
   "nbconvert_exporter": "python",
   "pygments_lexer": "ipython3",
   "version": "3.8.8"
  }
 },
 "nbformat": 4,
 "nbformat_minor": 5
}
