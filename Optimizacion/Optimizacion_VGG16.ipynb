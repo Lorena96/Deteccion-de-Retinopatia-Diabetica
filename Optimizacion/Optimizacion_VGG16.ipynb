{
 "cells": [
  {
   "cell_type": "markdown",
   "id": "4669f7bd",
   "metadata": {},
   "source": [
    "Librerías necesarias:"
   ]
  },
  {
   "cell_type": "code",
   "execution_count": 13,
   "id": "f558438a",
   "metadata": {},
   "outputs": [],
   "source": [
    "import numpy as np \n",
    "import pandas as pd\n",
    "import os\n",
    "import cv2\n",
    "import matplotlib.pyplot as plt\n",
    "import csv\n",
    "#from scipy import stats\n",
    "#KERAS\n",
    "import h5py\n",
    "import keras\n",
    "from keras.models import Sequential\n",
    "from keras.layers import Dense, Conv2D, MaxPooling2D, Dropout, Flatten\n",
    "from tensorflow.keras.utils import to_categorical\n",
    "from keras import optimizers\n",
    "from sklearn.metrics import classification_report\n",
    "import collections\n",
    "#np.set_printoptions(threshold=np.inf)\n",
    "from keras.models import model_from_json\n",
    "from tqdm import tqdm\n",
    "from sklearn.model_selection import train_test_split\n",
    "from keras.callbacks import ModelCheckpoint, EarlyStopping\n",
    "import keras.backend as K\n",
    "from PIL import Image\n",
    "import tensorflow as tf \n",
    "from tensorflow.keras.preprocessing.image import ImageDataGenerator \n",
    "from tensorflow.keras import layers \n",
    "from tensorflow.keras import Model \n",
    "from tensorflow.keras.applications.vgg16 import VGG16"
   ]
  },
  {
   "cell_type": "markdown",
   "id": "f307906c",
   "metadata": {},
   "source": [
    "Leemos el directorio y contamos cuántas imágenes hay"
   ]
  },
  {
   "cell_type": "code",
   "execution_count": 2,
   "id": "c56827b0",
   "metadata": {},
   "outputs": [],
   "source": [
    "directoris = []\n",
    "contador = []\n",
    "fitxers = []\n",
    "path_img = []\n",
    "\n",
    "# Retorna el path a les fotos (path), el nom de les fotos (fitxers) i la quantitat (contador)\n",
    "for dirname, _, filenames in os.walk('/Volumes/Lorena/APTOS/aptos2019-blindness-detection/train_images',followlinks=False):\n",
    "    #print(dirs)\n",
    "    #filenames.remove(\".DS_Store\")\n",
    "    #print(dirname)\n",
    "    directoris.append(os.path.join(dirname))\n",
    "    for i in filenames:\n",
    "        if not '._' in i:\n",
    "            fitxers.append(i)\n",
    "            path_img.append(dirname+\"/\"+i)\n",
    "    contador.append(dirname+': CONTÉ '+str(len(fitxers)) + ' FOTOS')"
   ]
  },
  {
   "cell_type": "code",
   "execution_count": 3,
   "id": "689372b5",
   "metadata": {},
   "outputs": [],
   "source": [
    "# Cargamos el train.csv\n",
    "csv_train = open('/Volumes/Lorena/APTOS/aptos2019-blindness-detection/train.csv')\n",
    "csvreader = csv.reader(csv_train)\n",
    "rows = []\n",
    "for row in csvreader:\n",
    "        rows.append(row)"
   ]
  },
  {
   "cell_type": "markdown",
   "id": "98b797a9",
   "metadata": {},
   "source": [
    "Creamos los sets de imágens y etiquetas"
   ]
  },
  {
   "cell_type": "code",
   "execution_count": 4,
   "id": "9b73efab",
   "metadata": {},
   "outputs": [],
   "source": [
    "data = []\n",
    "labels = []\n",
    "# recorremos los paths de las imágenes y de las filas del csv, buscamos el nombre de la imágen en el\n",
    "#csv y creamos dos sets de datos con las imágenes y la etiqueta correspondiente en la misma posición\n",
    "for imagePath in path_img:\n",
    "    #print(imagePath)\n",
    "    if not '._' in imagePath:\n",
    "        for row in rows:\n",
    "            item = imagePath.split(os.path.sep)[-1]\n",
    "            if item[0:item.find('.')] in row[0] and item[1]!='_' :\n",
    "                # leemos la imagen\n",
    "                image = cv2.imread(imagePath)\n",
    "                image = cv2.resize(image, (256, 256), interpolation=cv2.INTER_LINEAR)\n",
    "                # creamos los arrays de imágenes y etiquetas\n",
    "                data.append(image)\n",
    "                labels.append(row[0][(row[0].find(';'))+1:])"
   ]
  },
  {
   "cell_type": "code",
   "execution_count": 5,
   "id": "c0dc4704",
   "metadata": {},
   "outputs": [],
   "source": [
    "#Función que recorta los bordes de las imágenes \n",
    "#(inspirado en  https://www.kaggle.com/ratthachat/aptos-updated-preprocessing-ben-s-cropping)\n",
    "def crop_border(img):\n",
    "    gray_img = cv2.cvtColor(img, cv2.COLOR_BGR2GRAY)\n",
    "    mask = gray_img > 7       \n",
    "    check_shape = img[:,:,0][np.ix_(mask.any(1),mask.any(0))].shape[0]\n",
    "    if (check_shape == 0):\n",
    "        return img\n",
    "    else:\n",
    "        img1=img[:,:,0][np.ix_(mask.any(1),mask.any(0))]\n",
    "        img2=img[:,:,1][np.ix_(mask.any(1),mask.any(0))]\n",
    "        img3=img[:,:,2][np.ix_(mask.any(1),mask.any(0))]\n",
    "        img = np.stack([img1,img2,img3],axis=-1)\n",
    "    return img"
   ]
  },
  {
   "cell_type": "code",
   "execution_count": 6,
   "id": "711dc6aa",
   "metadata": {},
   "outputs": [],
   "source": [
    "processed_data = []\n",
    "\n",
    "for img in data:\n",
    "    image = img\n",
    "    image = crop_border(image)\n",
    "            \n",
    "    image = cv2.resize(image, (256, 256))\n",
    "    \n",
    "    # Applying GaussianBlur\n",
    "    blurred = cv2.blur(image, ksize=(int(256 / 6), int(256 / 6)))\n",
    "    image_blur = cv2.addWeighted(image, 4, cv2.GaussianBlur( image , (0,0) , 10) ,-4 ,128)\n",
    "    \n",
    "    processed_data.append(image_blur)"
   ]
  },
  {
   "cell_type": "code",
   "execution_count": 7,
   "id": "2511ee7b",
   "metadata": {},
   "outputs": [
    {
     "data": {
      "text/plain": [
       "{'0': 1796, '1': 369, '2': 995, '3': 193, '4': 295}"
      ]
     },
     "execution_count": 7,
     "metadata": {},
     "output_type": "execute_result"
    }
   ],
   "source": [
    "unique, counts = np.unique(labels, return_counts=True)\n",
    "dict(zip(unique, counts))"
   ]
  },
  {
   "cell_type": "code",
   "execution_count": 8,
   "id": "95f83529",
   "metadata": {},
   "outputs": [
    {
     "name": "stdout",
     "output_type": "stream",
     "text": [
      "Minimo support:  193\n"
     ]
    }
   ],
   "source": [
    "minimo=min(counts)\n",
    "print(\"Minimo support: \", minimo) #cogemos el minimo para equiparar la data de cada label"
   ]
  },
  {
   "cell_type": "code",
   "execution_count": 9,
   "id": "858afa36",
   "metadata": {},
   "outputs": [],
   "source": [
    "fondo=0; necrotico=0; granulado=0; piel=0; esfacelo=0\n",
    "indices_c=[]; indices_u=[]; indices_d=[]; indices_t=[]; indices_q=[]\n"
   ]
  },
  {
   "cell_type": "code",
   "execution_count": 10,
   "id": "5a675ddb",
   "metadata": {
    "scrolled": true
   },
   "outputs": [],
   "source": [
    "lab_0=0; lab_1=0; lab_2=0; lab_3=0; lab_4=0\n",
    "ind_0=[]; ind_1=[]; ind_2=[]; ind_3=[]; ind_4=[]\n",
    "\n",
    "for a in range(len(labels)): #hacemos cinco listas de los indices de cada label de longitud=minimo\n",
    "    if (labels[a]=='0' and lab_0<minimo):\n",
    "        lab_0+=1\n",
    "        ind_0.append(a)\n",
    "    if (labels[a]=='1' and lab_1<minimo):\n",
    "        lab_1+=1\n",
    "        ind_1.append(a)\n",
    "    if (labels[a]=='2' and lab_2<minimo):\n",
    "        lab_2+=1\n",
    "        ind_2.append(a)\n",
    "    if (labels[a]=='3' and lab_3<minimo):\n",
    "        lab_3+=1\n",
    "        ind_3.append(a)\n",
    "    if (labels[a]=='4' and lab_4<minimo):\n",
    "        lab_4+=1\n",
    "        ind_4.append(a)"
   ]
  },
  {
   "cell_type": "code",
   "execution_count": 11,
   "id": "635552c9",
   "metadata": {},
   "outputs": [
    {
     "name": "stdout",
     "output_type": "stream",
     "text": [
      "Lista train: 770  test:  195 \n",
      "Total lista:  965  minimo total: 965\n",
      "<class 'numpy.ndarray'>\n",
      "(770, 256, 256, 3)\n",
      "<class 'numpy.ndarray'>\n",
      "(770, 5)\n",
      "Shape of labels (770, 5) shape of data train (770, 256, 256, 3) shape of test train (195, 256, 256, 3)\n"
     ]
    }
   ],
   "source": [
    "#Passem les dades a array\n",
    "data_arr = np.array(processed_data)\n",
    "labels_arr = np.array(labels)\n",
    "\n",
    "final = int(minimo*0.8)\n",
    "\n",
    "#se separa la data en train y test\n",
    "ind_Train = ind_0[:final] + ind_1[:final] + ind_2[:final] + ind_3[:final] + ind_4[:final] \n",
    "ind_Test =  ind_0[final:] + ind_1[final:] + ind_2[final:] + ind_3[final:] + ind_4[final:]\n",
    "\n",
    "print(\"Lista train:\", len(ind_Train),\" test: \", len(ind_Test),\"\\nTotal lista: \", len(ind_Train)+len(ind_Test), \" minimo total:\", minimo*5)\n",
    "\n",
    "Train = ind_Train + ind_Test\n",
    "\n",
    "Train_Data = data_arr[Train, :, :, :] #All data (train + test)\n",
    "Train_Labels = to_categorical(np.array(labels_arr[Train])) #All labels (train + test)\n",
    "\n",
    "indTrainP = np.random.permutation(ind_Train)\n",
    "indTestP = np.random.permutation(ind_Test) \n",
    " \n",
    "       \n",
    "train_data = data_arr[indTrainP, :, :, :] #Data with 80% of data (train)\n",
    "print(type(train_data))\n",
    "print(np.shape(train_data))\n",
    "train_labels = to_categorical(np.array(labels_arr[indTrainP])) \n",
    "print(type(train_labels))\n",
    "print(np.shape(train_labels))\n",
    "test_data = data_arr[indTestP, :, :, :] #Data with 20%of data (test)\n",
    "test_labels = to_categorical(np.array(labels_arr[indTestP])) #test labels from labels (x, 4) because it's encoded\n",
    "print(\"Shape of labels\", train_labels.shape, \"shape of data train\", train_data.shape, \"shape of test train\", test_data.shape)"
   ]
  },
  {
   "cell_type": "code",
   "execution_count": 12,
   "id": "95ad8e3f",
   "metadata": {},
   "outputs": [
    {
     "name": "stdout",
     "output_type": "stream",
     "text": [
      "counter test Counter({2: 39, 1: 39, 4: 39, 3: 39, 0: 39})\n",
      "counter train Counter({0: 154, 4: 154, 2: 154, 3: 154, 1: 154})\n"
     ]
    }
   ],
   "source": [
    "#PARA COMPROBAR QUE EL NUMERO ES EL MISMO\n",
    "counterT=collections.Counter(np.argmax(test_labels,axis=1))\n",
    "print(\"counter test\", counterT)\n",
    "\n",
    "counterTR=collections.Counter(np.argmax(train_labels,axis=1))\n",
    "print(\"counter train\", counterTR)"
   ]
  },
  {
   "cell_type": "code",
   "execution_count": 14,
   "id": "935c4fb9",
   "metadata": {},
   "outputs": [
    {
     "name": "stderr",
     "output_type": "stream",
     "text": [
      "2022-05-03 22:35:52.915133: I tensorflow/core/platform/cpu_feature_guard.cc:142] This TensorFlow binary is optimized with oneAPI Deep Neural Network Library (oneDNN) to use the following CPU instructions in performance-critical operations:  AVX2 FMA\n",
      "To enable them in other operations, rebuild TensorFlow with the appropriate compiler flags.\n"
     ]
    }
   ],
   "source": [
    "# Model en xarxa preentrenada\n",
    "base_model = VGG16(input_shape = (256, 256, 3), # Shape of our images\n",
    "include_top = False, # Leave out the last fully connected layer\n",
    "weights = 'imagenet')\n",
    "\n",
    "for layer in base_model.layers:\n",
    "    layer.trainable = False\n",
    "\n",
    "# Flatten the output layer to 1 dimension\n",
    "x = layers.Flatten()(base_model.output)\n",
    "\n",
    "# Add a fully connected layer with 512 hidden units and ReLU activation\n",
    "x = layers.Dense(1024, activation='relu')(x)\n",
    "\n",
    "# Add a dropout rate of 0.5\n",
    "x = layers.Dropout(0.5)(x)\n",
    "\n",
    "# Add a final sigmoid layer with 1 node for classification output\n",
    "x = layers.Dense(5, activation='softmax')(x)\n",
    "\n",
    "model = tf.keras.models.Model(base_model.input, x)\n",
    "\n",
    "#model.compile(optimizer = tf.keras.optimizers.RMSprop(learning_rate=0.0001), loss = 'binary_crossentropy',metrics = ['acc'])"
   ]
  },
  {
   "cell_type": "code",
   "execution_count": 15,
   "id": "eefb81e8",
   "metadata": {
    "scrolled": true
   },
   "outputs": [
    {
     "name": "stdout",
     "output_type": "stream",
     "text": [
      "Training on Fold:  1\n"
     ]
    },
    {
     "name": "stderr",
     "output_type": "stream",
     "text": [
      "2022-05-03 22:35:54.163610: I tensorflow/compiler/mlir/mlir_graph_optimization_pass.cc:185] None of the MLIR Optimization Passes are enabled (registered 2)\n"
     ]
    },
    {
     "name": "stdout",
     "output_type": "stream",
     "text": [
      "Epoch 1/10\n",
      "7/7 [==============================] - 121s 17s/step - loss: 161.9698 - accuracy: 0.3194 - val_loss: 98.8759 - val_accuracy: 0.2000\n",
      "\n",
      "Epoch 00001: val_loss improved from inf to 98.87594, saving model to Optim_VGG_V1.h5\n",
      "Epoch 2/10\n",
      "7/7 [==============================] - 113s 16s/step - loss: 64.0442 - accuracy: 0.4478 - val_loss: 45.3597 - val_accuracy: 0.4714\n",
      "\n",
      "Epoch 00002: val_loss improved from 98.87594 to 45.35966, saving model to Optim_VGG_V1.h5\n",
      "Epoch 3/10\n",
      "7/7 [==============================] - 114s 16s/step - loss: 26.6465 - accuracy: 0.6083 - val_loss: 32.1191 - val_accuracy: 0.3714\n",
      "\n",
      "Epoch 00003: val_loss improved from 45.35966 to 32.11912, saving model to Optim_VGG_V1.h5\n",
      "Epoch 4/10\n",
      "7/7 [==============================] - 115s 16s/step - loss: 16.3034 - accuracy: 0.6693 - val_loss: 20.8354 - val_accuracy: 0.5143\n",
      "\n",
      "Epoch 00004: val_loss improved from 32.11912 to 20.83535, saving model to Optim_VGG_V1.h5\n",
      "Epoch 5/10\n",
      "7/7 [==============================] - 117s 17s/step - loss: 10.6639 - accuracy: 0.7175 - val_loss: 22.1337 - val_accuracy: 0.4429\n",
      "\n",
      "Epoch 00005: val_loss did not improve from 20.83535\n",
      "Epoch 6/10\n",
      "7/7 [==============================] - 116s 17s/step - loss: 6.2077 - accuracy: 0.7945 - val_loss: 17.0726 - val_accuracy: 0.5000\n",
      "\n",
      "Epoch 00006: val_loss improved from 20.83535 to 17.07263, saving model to Optim_VGG_V1.h5\n",
      "Epoch 7/10\n",
      "7/7 [==============================] - 117s 17s/step - loss: 3.7136 - accuracy: 0.8443 - val_loss: 13.9406 - val_accuracy: 0.5000\n",
      "\n",
      "Epoch 00007: val_loss improved from 17.07263 to 13.94065, saving model to Optim_VGG_V1.h5\n",
      "Epoch 8/10\n",
      "7/7 [==============================] - 118s 17s/step - loss: 2.6830 - accuracy: 0.8732 - val_loss: 12.9999 - val_accuracy: 0.4714\n",
      "\n",
      "Epoch 00008: val_loss improved from 13.94065 to 12.99988, saving model to Optim_VGG_V1.h5\n",
      "Epoch 9/10\n",
      "7/7 [==============================] - 116s 17s/step - loss: 1.3931 - accuracy: 0.9037 - val_loss: 11.1410 - val_accuracy: 0.4714\n",
      "\n",
      "Epoch 00009: val_loss improved from 12.99988 to 11.14103, saving model to Optim_VGG_V1.h5\n",
      "Epoch 10/10\n",
      "7/7 [==============================] - 107s 15s/step - loss: 0.6466 - accuracy: 0.9422 - val_loss: 10.2001 - val_accuracy: 0.5000\n",
      "\n",
      "Epoch 00010: val_loss improved from 11.14103 to 10.20015, saving model to Optim_VGG_V1.h5\n",
      "3/3 [==============================] - 12s 3s/step - loss: 7.9792 - accuracy: 0.6494\n",
      "Val Score:  [7.979197978973389, 0.649350643157959]\n",
      "3/3 [==============================] - 12s 3s/step - loss: 7.9792 - accuracy: 0.6494\n",
      "====================================================================================\n",
      "\n",
      "\n",
      "Training on Fold:  2\n",
      "Epoch 1/10\n",
      "7/7 [==============================] - 139s 20s/step - loss: 10.6821 - accuracy: 0.6854 - val_loss: 5.2835 - val_accuracy: 0.7286\n",
      "\n",
      "Epoch 00001: val_loss improved from 10.20015 to 5.28346, saving model to Optim_VGG_V1.h5\n",
      "Epoch 2/10\n",
      "7/7 [==============================] - 116s 16s/step - loss: 6.6545 - accuracy: 0.7416 - val_loss: 7.0557 - val_accuracy: 0.7429\n",
      "\n",
      "Epoch 00002: val_loss did not improve from 5.28346\n",
      "Epoch 3/10\n",
      "7/7 [==============================] - 113s 16s/step - loss: 4.4657 - accuracy: 0.7624 - val_loss: 4.5743 - val_accuracy: 0.7714\n",
      "\n",
      "Epoch 00003: val_loss improved from 5.28346 to 4.57434, saving model to Optim_VGG_V1.h5\n",
      "Epoch 4/10\n",
      "7/7 [==============================] - 112s 16s/step - loss: 2.3557 - accuracy: 0.8042 - val_loss: 3.2811 - val_accuracy: 0.7857\n",
      "\n",
      "Epoch 00004: val_loss improved from 4.57434 to 3.28110, saving model to Optim_VGG_V1.h5\n",
      "Epoch 5/10\n",
      "7/7 [==============================] - 111s 16s/step - loss: 1.5878 - accuracy: 0.8636 - val_loss: 3.1977 - val_accuracy: 0.8000\n",
      "\n",
      "Epoch 00005: val_loss improved from 3.28110 to 3.19766, saving model to Optim_VGG_V1.h5\n",
      "Epoch 6/10\n",
      "7/7 [==============================] - 113s 16s/step - loss: 0.6987 - accuracy: 0.9149 - val_loss: 3.0385 - val_accuracy: 0.7857\n",
      "\n",
      "Epoch 00006: val_loss improved from 3.19766 to 3.03847, saving model to Optim_VGG_V1.h5\n",
      "Epoch 7/10\n",
      "7/7 [==============================] - 112s 16s/step - loss: 0.4039 - accuracy: 0.9406 - val_loss: 2.8343 - val_accuracy: 0.8000\n",
      "\n",
      "Epoch 00007: val_loss improved from 3.03847 to 2.83429, saving model to Optim_VGG_V1.h5\n",
      "Epoch 8/10\n",
      "7/7 [==============================] - 112s 16s/step - loss: 0.3346 - accuracy: 0.9470 - val_loss: 2.6692 - val_accuracy: 0.8571\n",
      "\n",
      "Epoch 00008: val_loss improved from 2.83429 to 2.66921, saving model to Optim_VGG_V1.h5\n",
      "Epoch 9/10\n",
      "7/7 [==============================] - 113s 16s/step - loss: 0.2975 - accuracy: 0.9470 - val_loss: 2.9797 - val_accuracy: 0.8429\n",
      "\n",
      "Epoch 00009: val_loss did not improve from 2.66921\n",
      "Epoch 10/10\n",
      "7/7 [==============================] - 112s 16s/step - loss: 0.3234 - accuracy: 0.9502 - val_loss: 3.2205 - val_accuracy: 0.8143\n",
      "\n",
      "Epoch 00010: val_loss did not improve from 2.66921\n",
      "3/3 [==============================] - 13s 4s/step - loss: 1.0806 - accuracy: 0.8182\n",
      "Val Score:  [1.080578327178955, 0.8181818127632141]\n",
      "3/3 [==============================] - 13s 4s/step - loss: 1.0806 - accuracy: 0.8182\n",
      "====================================================================================\n",
      "\n",
      "\n",
      "Training on Fold:  3\n",
      "Epoch 1/10\n",
      "7/7 [==============================] - 116s 17s/step - loss: 3.8480 - accuracy: 0.7721 - val_loss: 1.7150 - val_accuracy: 0.8429\n",
      "\n",
      "Epoch 00001: val_loss improved from 2.66921 to 1.71502, saving model to Optim_VGG_V1.h5\n",
      "Epoch 2/10\n",
      "7/7 [==============================] - 127s 18s/step - loss: 2.2236 - accuracy: 0.8411 - val_loss: 0.9577 - val_accuracy: 0.8714\n",
      "\n",
      "Epoch 00002: val_loss improved from 1.71502 to 0.95768, saving model to Optim_VGG_V1.h5\n",
      "Epoch 3/10\n",
      "7/7 [==============================] - 123s 18s/step - loss: 1.2450 - accuracy: 0.8764 - val_loss: 1.1963 - val_accuracy: 0.9286\n",
      "\n",
      "Epoch 00003: val_loss did not improve from 0.95768\n",
      "Epoch 4/10\n",
      "7/7 [==============================] - 116s 16s/step - loss: 1.0389 - accuracy: 0.8973 - val_loss: 0.8828 - val_accuracy: 0.8857\n",
      "\n",
      "Epoch 00004: val_loss improved from 0.95768 to 0.88278, saving model to Optim_VGG_V1.h5\n",
      "Epoch 5/10\n",
      "7/7 [==============================] - 123s 18s/step - loss: 0.7756 - accuracy: 0.9069 - val_loss: 0.9001 - val_accuracy: 0.9000\n",
      "\n",
      "Epoch 00005: val_loss did not improve from 0.88278\n",
      "Epoch 6/10\n",
      "7/7 [==============================] - 130s 19s/step - loss: 0.7250 - accuracy: 0.9246 - val_loss: 0.9939 - val_accuracy: 0.9000\n",
      "\n",
      "Epoch 00006: val_loss did not improve from 0.88278\n",
      "Epoch 7/10\n",
      "7/7 [==============================] - 140s 20s/step - loss: 0.4274 - accuracy: 0.9326 - val_loss: 0.9296 - val_accuracy: 0.8714\n",
      "\n",
      "Epoch 00007: val_loss did not improve from 0.88278\n",
      "Epoch 8/10\n",
      "7/7 [==============================] - 141s 20s/step - loss: 0.2468 - accuracy: 0.9470 - val_loss: 0.7567 - val_accuracy: 0.9143\n",
      "\n",
      "Epoch 00008: val_loss improved from 0.88278 to 0.75672, saving model to Optim_VGG_V1.h5\n",
      "Epoch 9/10\n",
      "7/7 [==============================] - 163s 22s/step - loss: 0.3265 - accuracy: 0.9454 - val_loss: 0.6374 - val_accuracy: 0.9286\n",
      "\n",
      "Epoch 00009: val_loss improved from 0.75672 to 0.63735, saving model to Optim_VGG_V1.h5\n",
      "Epoch 10/10\n",
      "7/7 [==============================] - 141s 20s/step - loss: 0.2831 - accuracy: 0.9486 - val_loss: 0.6679 - val_accuracy: 0.9000\n",
      "\n",
      "Epoch 00010: val_loss did not improve from 0.63735\n",
      "3/3 [==============================] - 28s 8s/step - loss: 0.6418 - accuracy: 0.8831\n",
      "Val Score:  [0.6417921781539917, 0.8831169009208679]\n",
      "3/3 [==============================] - 26s 7s/step - loss: 0.6418 - accuracy: 0.8831\n",
      "====================================================================================\n",
      "\n",
      "\n"
     ]
    }
   ],
   "source": [
    "##set early stopping criteria\n",
    "pat = 5 #this is the number of epochs with no improvment after which the training will stop\n",
    "early_stopping = EarlyStopping(monitor='val_loss', patience=pat, verbose=1)\n",
    "\n",
    "#define the model checkpoint callback -> this will keep on saving the model as a physical file\n",
    "model_checkpoint = ModelCheckpoint('Optim_VGG_V1.h5', verbose=1, save_best_only=True)\n",
    "#model_history = [] \n",
    "score = []\n",
    "history = []\n",
    "score_history = []\n",
    "\n",
    "def fit_and_evaluate(t_x, val_x, t_y, val_y, EPOCHS=20, BATCH_SIZE=128):\n",
    "    #modelo = model()\n",
    "    #model.summary()\n",
    "    model.compile(optimizer=\"Adamax\", loss = 'categorical_crossentropy', metrics = ['accuracy']) \n",
    "    vgg = model.fit(t_x, t_y, epochs = 10, batch_size=BATCH_SIZE, callbacks=[early_stopping, model_checkpoint], \n",
    "              verbose=1, validation_split=0.1) \n",
    "    \n",
    "    print(\"Val Score: \", model.evaluate(val_x, val_y))\n",
    "    score.append(model.evaluate(val_x, val_y)[1])\n",
    "    return vgg, score\n",
    "\n",
    "n_folds=3\n",
    "epochs=5\n",
    "batch_size=100\n",
    "\n",
    "#save the model history in a list after fitting so that we can plot later\n",
    "\n",
    "\n",
    "for i in range(n_folds):\n",
    "\n",
    "    print(\"Training on Fold: \",i+1)\n",
    "    t_x, val_x, t_y, val_y = train_test_split(train_data, train_labels, test_size=0.1, \n",
    "                                              random_state = np.random.randint(1,1000, 1)[0])\n",
    "    #model_history.append(fit_and_evaluate(t_x, val_x, t_y, val_y, epochs, batch_size))\n",
    "    model_history, score_hist = fit_and_evaluate(t_x, val_x, t_y, val_y, epochs, batch_size)\n",
    "    print(\"=======\"*12, end=\"\\n\\n\\n\")\n",
    "    history.append(model_history)\n",
    "    score_history.append(score_hist)\n",
    "    "
   ]
  },
  {
   "cell_type": "code",
   "execution_count": 16,
   "id": "d3f70617",
   "metadata": {},
   "outputs": [
    {
     "data": {
      "image/png": "[encoded data removed]",
      "text/plain": [
       "<Figure size 720x216 with 2 Axes>"
      ]
     },
     "metadata": {
      "needs_background": "light"
     },
     "output_type": "display_data"
    },
    {
     "data": {
      "image/png": "[encoded data removed]",
      "text/plain": [
       "<Figure size 720x216 with 2 Axes>"
      ]
     },
     "metadata": {
      "needs_background": "light"
     },
     "output_type": "display_data"
    },
    {
     "data": {
      "image/png": "[encoded data removed]",
      "text/plain": [
       "<Figure size 720x216 with 2 Axes>"
      ]
     },
     "metadata": {
      "needs_background": "light"
     },
     "output_type": "display_data"
    }
   ],
   "source": [
    "for fold in range(len(history)):\n",
    "    fig, ax = plt.subplots(1,2, figsize=(10,3))\n",
    "    fig.suptitle(f'Iteration: {fold}')\n",
    "    #print(f'Iteration: {fold}')\n",
    "    ax[0].plot(history[fold].history['val_loss'], label='validation')\n",
    "    ax[0].plot(history[fold].history['loss'], label='training')\n",
    "    ax[0].set_title(\"loss\")\n",
    "    ax[0].legend()\n",
    "\n",
    "    ax[1].plot(history[fold].history['val_accuracy'], label='validation')\n",
    "    ax[1].plot(history[fold].history['accuracy'], label='training')\n",
    "    ax[1].set_title(\"accuracy\")\n",
    "    ax[1].legend()"
   ]
  },
  {
   "cell_type": "code",
   "execution_count": 17,
   "id": "46fa8adc",
   "metadata": {},
   "outputs": [
    {
     "name": "stdout",
     "output_type": "stream",
     "text": [
      "7/7 [==============================] - 61s 9s/step - loss: 4.0587 - accuracy: 0.5795\n",
      "\n",
      " loss : 405.87\n",
      "\n",
      " accuracy : 57.95\n"
     ]
    }
   ],
   "source": [
    "#evaluacion basica de la accuracy\n",
    "v = model.evaluate(test_data, test_labels)\n",
    "w = model.metrics_names\n",
    "\n",
    "for t in range (len(w)):\n",
    "    print(\"\\n\", w[t],\":\", np.round(v[t]*100,2))"
   ]
  },
  {
   "cell_type": "code",
   "execution_count": 18,
   "id": "a158909b",
   "metadata": {},
   "outputs": [
    {
     "name": "stdout",
     "output_type": "stream",
     "text": [
      "VGG16 MODEL\n",
      "              precision    recall  f1-score   support\n",
      "\n",
      "           0       0.89      0.87      0.88        39\n",
      "           1       0.66      0.74      0.70        39\n",
      "           2       0.41      0.44      0.43        39\n",
      "           3       0.44      0.49      0.46        39\n",
      "           4       0.48      0.36      0.41        39\n",
      "\n",
      "    accuracy                           0.58       195\n",
      "   macro avg       0.58      0.58      0.58       195\n",
      "weighted avg       0.58      0.58      0.58       195\n",
      "\n"
     ]
    }
   ],
   "source": [
    "# obtencion de la precison, recall, f1-score y support por cada clase\n",
    "test_pred = model.predict(test_data)\n",
    "test_pred_de = np.argmax(test_pred,axis=1)\n",
    "test_labels_de = np.argmax(test_labels, axis=1)\n",
    "print('VGG16 MODEL')\n",
    "print(classification_report(test_labels_de, test_pred_de))"
   ]
  },
  {
   "cell_type": "code",
   "execution_count": 19,
   "id": "8c8a2ee0",
   "metadata": {},
   "outputs": [
    {
     "name": "stderr",
     "output_type": "stream",
     "text": [
      "/var/folders/8t/60tzsb9x2p1_hm55m00nhbgh0000gn/T/ipykernel_21658/908038193.py:36: DeprecationWarning: scipy.interp is deprecated and will be removed in SciPy 2.0.0, use numpy.interp instead\n",
      "  mean_tpr += interp(all_fpr, fpr[i], tpr[i])\n"
     ]
    },
    {
     "data": {
      "image/png": "[encoded data removed]",
      "text/plain": [
       "<Figure size 432x288 with 1 Axes>"
      ]
     },
     "metadata": {
      "needs_background": "light"
     },
     "output_type": "display_data"
    }
   ],
   "source": [
    "#Calculo de las curvas roc por clase\n",
    "\n",
    "\n",
    "from sklearn.metrics import roc_curve, auc\n",
    "from scipy import interp\n",
    "from itertools import cycle\n",
    "\n",
    "#n_classes = 3\n",
    "#titulo=\"SAVE_CROPS_5eti_39_imbalanced\"\n",
    "# Plot linewidth.\n",
    "lw = 2\n",
    "\n",
    "# Compute ROC curve and ROC area for each class\n",
    "fpr = dict()\n",
    "tpr = dict()\n",
    "roc_auc = dict()\n",
    "\n",
    "n_classes=[0,1,2,3,4]\n",
    "\n",
    "for i in n_classes:\n",
    "    fpr[i], tpr[i], _ = roc_curve(test_labels[:, i], test_pred[:, i])\n",
    "    roc_auc[i] = auc(fpr[i], tpr[i])\n",
    "\n",
    "# Compute micro-average ROC curve and ROC area\n",
    "fpr[\"micro\"], tpr[\"micro\"], _ = roc_curve(test_labels.ravel(), test_pred.ravel())\n",
    "roc_auc[\"micro\"] = auc(fpr[\"micro\"], tpr[\"micro\"])\n",
    "\n",
    "# Compute macro-average ROC curve and ROC area\n",
    "\n",
    "# First aggregate all false positive rates\n",
    "all_fpr = np.unique(np.concatenate([fpr[i] for i in n_classes]))\n",
    "\n",
    "# Then interpolate all ROC curves at this points\n",
    "mean_tpr = np.zeros_like(all_fpr)\n",
    "for i in n_classes:\n",
    "    mean_tpr += interp(all_fpr, fpr[i], tpr[i])\n",
    "\n",
    "# Finally average it and compute AUC\n",
    "mean_tpr /= len(n_classes)\n",
    "\n",
    "fpr[\"macro\"] = all_fpr\n",
    "tpr[\"macro\"] = mean_tpr\n",
    "roc_auc[\"macro\"] = auc(fpr[\"macro\"], tpr[\"macro\"])\n",
    "\n",
    "\n",
    "\n",
    "colors = cycle(['aqua', 'darkorange', 'cornflowerblue','green','red'])\n",
    "d={0:\"sin rd\", 1:\"leve\", 2:\"moderada\", 3: \"grave\", 4:\"proliferativa\"}\n",
    "for i, color in zip(n_classes, colors):\n",
    "    plt.plot(fpr[i], tpr[i], color=color, lw=lw,\n",
    "             label='{0} (A={1:0.2f})'\n",
    "             ''.format(d[i], roc_auc[i]))\n",
    "\n",
    "plt.plot([0, 1], [0, 1], 'k--', lw=lw)\n",
    "plt.xlim([0.0, 1.0])\n",
    "plt.ylim([0.0, 1.05])\n",
    "plt.title('ROC curves using ResNet50 model')\n",
    "plt.xlabel('False Positive Rate')\n",
    "plt.ylabel('True Positive Rate')\n",
    "#plt.title(titulo)\n",
    "plt.legend(loc=\"lower right\")\n",
    "plt.show()"
   ]
  },
  {
   "cell_type": "code",
   "execution_count": 20,
   "id": "a21026ea",
   "metadata": {},
   "outputs": [],
   "source": [
    "from sklearn.metrics import confusion_matrix\n",
    "mat_con = (confusion_matrix(test_labels_de, test_pred_de, labels=[0, 1,2,3,4]))"
   ]
  },
  {
   "cell_type": "code",
   "execution_count": 21,
   "id": "3cee42f4",
   "metadata": {},
   "outputs": [
    {
     "data": {
      "image/png": "[encoded data removed]",
      "text/plain": [
       "<Figure size 540x540 with 1 Axes>"
      ]
     },
     "metadata": {
      "needs_background": "light"
     },
     "output_type": "display_data"
    }
   ],
   "source": [
    "# Setting the attributes\n",
    "fig, px = plt.subplots(figsize=(7.5, 7.5))\n",
    "px.matshow(mat_con, cmap=plt.cm.YlOrRd, alpha=0.5)\n",
    "for m in range(mat_con.shape[0]):\n",
    "    for n in range(mat_con.shape[1]):\n",
    "        px.text(x=m,y=n,s=mat_con[m, n], va='center', ha='center', size='xx-large')\n",
    "\n",
    "# Sets the labels\n",
    "plt.xlabel('Predictions', fontsize=16)\n",
    "plt.ylabel('Reals', fontsize=16)\n",
    "plt.title('Confusion Matrix', fontsize=15)\n",
    "plt.show()"
   ]
  },
  {
   "cell_type": "code",
   "execution_count": null,
   "id": "423ca182",
   "metadata": {},
   "outputs": [],
   "source": []
  }
 ],
 "metadata": {
  "kernelspec": {
   "display_name": "Python 3 (ipykernel)",
   "language": "python",
   "name": "python3"
  },
  "language_info": {
   "codemirror_mode": {
    "name": "ipython",
    "version": 3
   },
   "file_extension": ".py",
   "mimetype": "text/x-python",
   "name": "python",
   "nbconvert_exporter": "python",
   "pygments_lexer": "ipython3",
   "version": "3.8.8"
  }
 },
 "nbformat": 4,
 "nbformat_minor": 5
}
