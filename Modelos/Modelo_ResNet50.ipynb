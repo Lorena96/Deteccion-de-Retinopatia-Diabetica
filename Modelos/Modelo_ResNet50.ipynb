{
 "cells": [
  {
   "cell_type": "markdown",
   "id": "4669f7bd",
   "metadata": {},
   "source": [
    "Librerías necesarias:"
   ]
  },
  {
   "cell_type": "code",
   "execution_count": 3,
   "id": "f558438a",
   "metadata": {},
   "outputs": [],
   "source": [
    "import numpy as np \n",
    "import pandas as pd\n",
    "import os\n",
    "import cv2\n",
    "import matplotlib.pyplot as plt\n",
    "import csv\n",
    "#from scipy import stats\n",
    "#KERAS\n",
    "import h5py\n",
    "import keras\n",
    "from keras.models import Sequential\n",
    "from keras.layers import Dense, Conv2D, MaxPooling2D, Dropout, Flatten\n",
    "from tensorflow.keras.utils import to_categorical\n",
    "from keras import optimizers\n",
    "from sklearn.metrics import classification_report\n",
    "import collections\n",
    "#np.set_printoptions(threshold=np.inf)\n",
    "from keras.models import model_from_json\n",
    "from tqdm import tqdm\n",
    "from sklearn.model_selection import train_test_split\n",
    "from keras.callbacks import ModelCheckpoint, EarlyStopping\n",
    "import keras.backend as K\n",
    "from PIL import Image\n",
    "import tensorflow as tf \n",
    "from tensorflow.keras.preprocessing.image import ImageDataGenerator \n",
    "from tensorflow.keras import layers \n",
    "from tensorflow.keras import Model \n",
    "from tensorflow.keras.applications.vgg16 import VGG16\n",
    "from tensorflow.keras.applications.inception_v3 import InceptionV3\n",
    "from tensorflow.keras.applications import ResNet50"
   ]
  },
  {
   "cell_type": "markdown",
   "id": "f307906c",
   "metadata": {},
   "source": [
    "Leemos el directorio y contamos cuántas imágenes hay"
   ]
  },
  {
   "cell_type": "code",
   "execution_count": 4,
   "id": "c56827b0",
   "metadata": {},
   "outputs": [],
   "source": [
    "directoris = []\n",
    "contador = []\n",
    "fitxers = []\n",
    "path_img = []\n",
    "\n",
    "# Retorna el path a les fotos (path), el nom de les fotos (fitxers) i la quantitat (contador)\n",
    "for dirname, _, filenames in os.walk('/Volumes/Lorena/APTOS/aptos2019-blindness-detection/train_images',followlinks=False):\n",
    "    #print(dirs)\n",
    "    #filenames.remove(\".DS_Store\")\n",
    "    #print(dirname)\n",
    "    directoris.append(os.path.join(dirname))\n",
    "    for i in filenames:\n",
    "        if not '._' in i:\n",
    "            fitxers.append(i)\n",
    "            path_img.append(dirname+\"/\"+i)\n",
    "    contador.append(dirname+': CONTÉ '+str(len(fitxers)) + ' FOTOS')"
   ]
  },
  {
   "cell_type": "code",
   "execution_count": 5,
   "id": "689372b5",
   "metadata": {},
   "outputs": [],
   "source": [
    "# Cargamos el train.csv\n",
    "csv_train = open('/Volumes/Lorena/APTOS/aptos2019-blindness-detection/train.csv')\n",
    "csvreader = csv.reader(csv_train)\n",
    "rows = []\n",
    "for row in csvreader:\n",
    "        rows.append(row)"
   ]
  },
  {
   "cell_type": "markdown",
   "id": "98b797a9",
   "metadata": {},
   "source": [
    "Creamos los sets de imágens y etiquetas"
   ]
  },
  {
   "cell_type": "code",
   "execution_count": 8,
   "id": "9b73efab",
   "metadata": {},
   "outputs": [],
   "source": [
    "data = []\n",
    "labels = []\n",
    "# recorremos los paths de las imágenes y de las filas del csv, buscamos el nombre de la imágen en el\n",
    "#csv y creamos dos sets de datos con las imágenes y la etiqueta correspondiente en la misma posición\n",
    "for imagePath in path_img:\n",
    "    #print(imagePath)\n",
    "    if not '._' in imagePath:\n",
    "        for row in rows:\n",
    "            item = imagePath.split(os.path.sep)[-1]\n",
    "            if item[0:item.find('.')] in row[0] and item[1]!='_' :\n",
    "                # leemos la imagen\n",
    "                image = cv2.imread(imagePath)\n",
    "                image = cv2.resize(image, (256, 256), interpolation=cv2.INTER_LINEAR)\n",
    "                # creamos los arrays de imágenes y etiquetas\n",
    "                data.append(image)\n",
    "                labels.append(row[0][(row[0].find(';'))+1:])"
   ]
  },
  {
   "cell_type": "code",
   "execution_count": 9,
   "id": "c0dc4704",
   "metadata": {},
   "outputs": [],
   "source": [
    "#Función que recorta los bordes de las imágenes \n",
    "#(inspirado en  https://www.kaggle.com/ratthachat/aptos-updated-preprocessing-ben-s-cropping)\n",
    "def crop_border(img):\n",
    "    gray_img = cv2.cvtColor(img, cv2.COLOR_BGR2GRAY)\n",
    "    mask = gray_img > 7       \n",
    "    check_shape = img[:,:,0][np.ix_(mask.any(1),mask.any(0))].shape[0]\n",
    "    if (check_shape == 0):\n",
    "        return img\n",
    "    else:\n",
    "        img1=img[:,:,0][np.ix_(mask.any(1),mask.any(0))]\n",
    "        img2=img[:,:,1][np.ix_(mask.any(1),mask.any(0))]\n",
    "        img3=img[:,:,2][np.ix_(mask.any(1),mask.any(0))]\n",
    "        img = np.stack([img1,img2,img3],axis=-1)\n",
    "    return img"
   ]
  },
  {
   "cell_type": "code",
   "execution_count": 10,
   "id": "711dc6aa",
   "metadata": {},
   "outputs": [],
   "source": [
    "processed_data = []\n",
    "\n",
    "for img in data:\n",
    "    image = img\n",
    "    image = crop_border(image)\n",
    "            \n",
    "    image = cv2.resize(image, (256, 256))\n",
    "    \n",
    "    # Applying GaussianBlur\n",
    "    blurred = cv2.blur(image, ksize=(int(256 / 6), int(256 / 6)))\n",
    "    image_blur = cv2.addWeighted(image, 4, cv2.GaussianBlur( image , (0,0) , 10) ,-4 ,128)\n",
    "    \n",
    "    processed_data.append(image_blur)"
   ]
  },
  {
   "cell_type": "code",
   "execution_count": 11,
   "id": "2511ee7b",
   "metadata": {},
   "outputs": [
    {
     "data": {
      "text/plain": [
       "{'0': 1796, '1': 369, '2': 995, '3': 193, '4': 295}"
      ]
     },
     "execution_count": 11,
     "metadata": {},
     "output_type": "execute_result"
    }
   ],
   "source": [
    "unique, counts = np.unique(labels, return_counts=True)\n",
    "dict(zip(unique, counts))"
   ]
  },
  {
   "cell_type": "code",
   "execution_count": 12,
   "id": "95f83529",
   "metadata": {},
   "outputs": [
    {
     "name": "stdout",
     "output_type": "stream",
     "text": [
      "Minimo support:  193\n"
     ]
    }
   ],
   "source": [
    "minimo=min(counts)\n",
    "print(\"Minimo support: \", minimo) #cogemos el minimo para equiparar la data de cada label"
   ]
  },
  {
   "cell_type": "code",
   "execution_count": 13,
   "id": "858afa36",
   "metadata": {},
   "outputs": [],
   "source": [
    "fondo=0; necrotico=0; granulado=0; piel=0; esfacelo=0\n",
    "indices_c=[]; indices_u=[]; indices_d=[]; indices_t=[]; indices_q=[]\n"
   ]
  },
  {
   "cell_type": "code",
   "execution_count": 14,
   "id": "5a675ddb",
   "metadata": {
    "scrolled": true
   },
   "outputs": [],
   "source": [
    "lab_0=0; lab_1=0; lab_2=0; lab_3=0; lab_4=0\n",
    "ind_0=[]; ind_1=[]; ind_2=[]; ind_3=[]; ind_4=[]\n",
    "\n",
    "for a in range(len(labels)): #hacemos cinco listas de los indices de cada label de longitud=minimo\n",
    "    if (labels[a]=='0' and lab_0<minimo):\n",
    "        lab_0+=1\n",
    "        ind_0.append(a)\n",
    "    if (labels[a]=='1' and lab_1<minimo):\n",
    "        lab_1+=1\n",
    "        ind_1.append(a)\n",
    "    if (labels[a]=='2' and lab_2<minimo):\n",
    "        lab_2+=1\n",
    "        ind_2.append(a)\n",
    "    if (labels[a]=='3' and lab_3<minimo):\n",
    "        lab_3+=1\n",
    "        ind_3.append(a)\n",
    "    if (labels[a]=='4' and lab_4<minimo):\n",
    "        lab_4+=1\n",
    "        ind_4.append(a)"
   ]
  },
  {
   "cell_type": "code",
   "execution_count": 15,
   "id": "635552c9",
   "metadata": {},
   "outputs": [
    {
     "name": "stdout",
     "output_type": "stream",
     "text": [
      "Lista train: 770  test:  195 \n",
      "Total lista:  965  minimo total: 965\n",
      "<class 'numpy.ndarray'>\n",
      "(770, 256, 256, 3)\n",
      "<class 'numpy.ndarray'>\n",
      "(770, 5)\n",
      "Shape of labels (770, 5) shape of data train (770, 256, 256, 3) shape of test train (195, 256, 256, 3)\n"
     ]
    }
   ],
   "source": [
    "#Passem les dades a array\n",
    "data_arr = np.array(processed_data)\n",
    "labels_arr = np.array(labels)\n",
    "\n",
    "final = int(minimo*0.8)\n",
    "\n",
    "#se separa la data en train y test\n",
    "ind_Train = ind_0[:final] + ind_1[:final] + ind_2[:final] + ind_3[:final] + ind_4[:final] \n",
    "ind_Test =  ind_0[final:] + ind_1[final:] + ind_2[final:] + ind_3[final:] + ind_4[final:]\n",
    "\n",
    "print(\"Lista train:\", len(ind_Train),\" test: \", len(ind_Test),\"\\nTotal lista: \", len(ind_Train)+len(ind_Test), \" minimo total:\", minimo*5)\n",
    "\n",
    "Train = ind_Train + ind_Test\n",
    "\n",
    "Train_Data = data_arr[Train, :, :, :] #All data (train + test)\n",
    "Train_Labels = to_categorical(np.array(labels_arr[Train])) #All labels (train + test)\n",
    "\n",
    "indTrainP = np.random.permutation(ind_Train)\n",
    "indTestP = np.random.permutation(ind_Test) \n",
    " \n",
    "       \n",
    "train_data = data_arr[indTrainP, :, :, :] #Data with 80% of data (train)\n",
    "print(type(train_data))\n",
    "print(np.shape(train_data))\n",
    "train_labels = to_categorical(np.array(labels_arr[indTrainP])) \n",
    "print(type(train_labels))\n",
    "print(np.shape(train_labels))\n",
    "test_data = data_arr[indTestP, :, :, :] #Data with 20%of data (test)\n",
    "test_labels = to_categorical(np.array(labels_arr[indTestP])) #test labels from labels (x, 4) because it's encoded\n",
    "print(\"Shape of labels\", train_labels.shape, \"shape of data train\", train_data.shape, \"shape of test train\", test_data.shape)"
   ]
  },
  {
   "cell_type": "code",
   "execution_count": 16,
   "id": "95ad8e3f",
   "metadata": {},
   "outputs": [
    {
     "name": "stdout",
     "output_type": "stream",
     "text": [
      "counter test Counter({1: 39, 4: 39, 2: 39, 3: 39, 0: 39})\n",
      "counter train Counter({1: 154, 0: 154, 3: 154, 2: 154, 4: 154})\n"
     ]
    }
   ],
   "source": [
    "#PARA COMPROBAR QUE EL NUMERO ES EL MISMO\n",
    "counterT=collections.Counter(np.argmax(test_labels,axis=1))\n",
    "print(\"counter test\", counterT)\n",
    "\n",
    "counterTR=collections.Counter(np.argmax(train_labels,axis=1))\n",
    "print(\"counter train\", counterTR)"
   ]
  },
  {
   "cell_type": "code",
   "execution_count": 17,
   "id": "935c4fb9",
   "metadata": {},
   "outputs": [
    {
     "name": "stderr",
     "output_type": "stream",
     "text": [
      "2022-05-03 14:36:35.180142: I tensorflow/core/platform/cpu_feature_guard.cc:142] This TensorFlow binary is optimized with oneAPI Deep Neural Network Library (oneDNN) to use the following CPU instructions in performance-critical operations:  AVX2 FMA\n",
      "To enable them in other operations, rebuild TensorFlow with the appropriate compiler flags.\n"
     ]
    }
   ],
   "source": [
    "# Model en xarxa preentrenada\n",
    "base_model = ResNet50(input_shape = (256, 256, 3), # Shape of our images\n",
    "include_top = False, # Leave out the last fully connected layer\n",
    "weights = 'imagenet')\n",
    "\n",
    "for layer in base_model.layers:\n",
    "    layer.trainable = False\n",
    "\n",
    "# Flatten the output layer to 1 dimension\n",
    "x = layers.Flatten()(base_model.output)\n",
    "\n",
    "# Add a fully connected layer with 512 hidden units and ReLU activation\n",
    "x = layers.Dense(1024, activation='relu')(x)\n",
    "\n",
    "# Add a dropout rate of 0.5\n",
    "x = layers.Dropout(0.5)(x)\n",
    "\n",
    "# Add a final sigmoid layer with 1 node for classification output\n",
    "x = layers.Dense(5, activation='softmax')(x)\n",
    "\n",
    "model = tf.keras.models.Model(base_model.input, x)\n",
    "\n",
    "#model.compile(optimizer = tf.keras.optimizers.RMSprop(learning_rate=0.0001), loss = 'binary_crossentropy',metrics = ['acc'])"
   ]
  },
  {
   "cell_type": "code",
   "execution_count": 18,
   "id": "eefb81e8",
   "metadata": {
    "scrolled": true
   },
   "outputs": [
    {
     "name": "stderr",
     "output_type": "stream",
     "text": [
      "2022-05-03 14:36:37.570319: I tensorflow/compiler/mlir/mlir_graph_optimization_pass.cc:185] None of the MLIR Optimization Passes are enabled (registered 2)\n"
     ]
    },
    {
     "name": "stdout",
     "output_type": "stream",
     "text": [
      "Epoch 1/10\n",
      "7/7 [==============================] - 56s 7s/step - loss: 163.9490 - accuracy: 0.3178 - val_loss: 72.3470 - val_accuracy: 0.3714\n",
      "\n",
      "Epoch 00001: val_loss improved from inf to 72.34697, saving model to Model_Resnet.h5\n"
     ]
    },
    {
     "name": "stderr",
     "output_type": "stream",
     "text": [
      "/opt/anaconda3/lib/python3.8/site-packages/keras/utils/generic_utils.py:494: CustomMaskWarning: Custom mask layers require a config and must override get_config. When loading, the custom mask layer must be passed to the custom_objects argument.\n",
      "  warnings.warn('Custom mask layers require a config and must override '\n"
     ]
    },
    {
     "name": "stdout",
     "output_type": "stream",
     "text": [
      "Epoch 2/10\n",
      "7/7 [==============================] - 2567s 427s/step - loss: 50.8604 - accuracy: 0.3772 - val_loss: 34.4875 - val_accuracy: 0.5143\n",
      "\n",
      "Epoch 00002: val_loss improved from 72.34697 to 34.48752, saving model to Model_Resnet.h5\n",
      "Epoch 3/10\n",
      "7/7 [==============================] - 52s 7s/step - loss: 23.9970 - accuracy: 0.5586 - val_loss: 13.4713 - val_accuracy: 0.4714\n",
      "\n",
      "Epoch 00003: val_loss improved from 34.48752 to 13.47134, saving model to Model_Resnet.h5\n",
      "Epoch 4/10\n",
      "7/7 [==============================] - 57s 8s/step - loss: 15.3446 - accuracy: 0.5971 - val_loss: 9.9041 - val_accuracy: 0.6286\n",
      "\n",
      "Epoch 00004: val_loss improved from 13.47134 to 9.90408, saving model to Model_Resnet.h5\n",
      "Epoch 5/10\n",
      "7/7 [==============================] - 59s 9s/step - loss: 5.9607 - accuracy: 0.7335 - val_loss: 5.6942 - val_accuracy: 0.6429\n",
      "\n",
      "Epoch 00005: val_loss improved from 9.90408 to 5.69425, saving model to Model_Resnet.h5\n",
      "Epoch 6/10\n",
      "7/7 [==============================] - 49s 7s/step - loss: 3.7065 - accuracy: 0.7624 - val_loss: 3.8295 - val_accuracy: 0.6571\n",
      "\n",
      "Epoch 00006: val_loss improved from 5.69425 to 3.82946, saving model to Model_Resnet.h5\n",
      "Epoch 7/10\n",
      "7/7 [==============================] - 50s 7s/step - loss: 1.7808 - accuracy: 0.8234 - val_loss: 3.8823 - val_accuracy: 0.6286\n",
      "\n",
      "Epoch 00007: val_loss did not improve from 3.82946\n",
      "Epoch 8/10\n",
      "7/7 [==============================] - 52s 7s/step - loss: 1.0096 - accuracy: 0.8620 - val_loss: 3.9663 - val_accuracy: 0.6000\n",
      "\n",
      "Epoch 00008: val_loss did not improve from 3.82946\n",
      "Epoch 9/10\n",
      "7/7 [==============================] - 53s 8s/step - loss: 0.7689 - accuracy: 0.8828 - val_loss: 3.4431 - val_accuracy: 0.6286\n",
      "\n",
      "Epoch 00009: val_loss improved from 3.82946 to 3.44314, saving model to Model_Resnet.h5\n",
      "Epoch 10/10\n",
      "7/7 [==============================] - 54s 8s/step - loss: 0.5680 - accuracy: 0.9117 - val_loss: 2.9206 - val_accuracy: 0.6429\n",
      "\n",
      "Epoch 00010: val_loss improved from 3.44314 to 2.92059, saving model to Model_Resnet.h5\n",
      "3/3 [==============================] - 6s 2s/step - loss: 2.6549 - accuracy: 0.5974\n",
      "Val Score:  [2.654913902282715, 0.5974025726318359]\n",
      "3/3 [==============================] - 7s 2s/step - loss: 2.6549 - accuracy: 0.5974\n",
      "====================================================================================\n",
      "\n",
      "\n"
     ]
    }
   ],
   "source": [
    "#set early stopping criteria\n",
    "pat = 5 #this is the number of epochs with no improvment after which the training will stop\n",
    "early_stopping = EarlyStopping(monitor='val_loss', patience=pat, verbose=1)\n",
    "\n",
    "#define the model checkpoint callback -> this will keep on saving the model as a physical file\n",
    "model_checkpoint = ModelCheckpoint('Model_Resnet.h5', verbose=1, save_best_only=True)\n",
    "model_history = [] \n",
    "score = []\n",
    "\n",
    "def fit_and_evaluate(t_x, val_x, t_y, val_y, EPOCHS=20, BATCH_SIZE=128):\n",
    "    #modelo = model()\n",
    "    #model.summary()\n",
    "    model.compile(optimizer = \"Adamax\", loss = 'categorical_crossentropy', metrics = ['accuracy']) \n",
    "    inception = model.fit(t_x, t_y, epochs = 10, batch_size=BATCH_SIZE, callbacks=[early_stopping, model_checkpoint], \n",
    "              verbose=1, validation_split=0.1) \n",
    "    \n",
    "    print(\"Val Score: \", model.evaluate(val_x, val_y))\n",
    "    score.append(model.evaluate(val_x, val_y)[1])\n",
    "    return inception\n",
    "\n",
    "n_folds=10\n",
    "epochs=5\n",
    "batch_size=100\n",
    "\n",
    "#save the model history in a list after fitting so that we can plot later\n",
    "\n",
    "\n",
    "#for i in range(n_folds):\n",
    "\n",
    "#print(\"Training on Fold: \",i+1)\n",
    "t_x, val_x, t_y, val_y = train_test_split(train_data, train_labels, test_size=0.1, \n",
    "                                           random_state = np.random.randint(1,1000, 1)[0])\n",
    "model_history.append(fit_and_evaluate(t_x, val_x, t_y, val_y, epochs, batch_size))\n",
    "print(\"=======\"*12, end=\"\\n\\n\\n\")"
   ]
  },
  {
   "cell_type": "code",
   "execution_count": 24,
   "id": "46fa8adc",
   "metadata": {},
   "outputs": [
    {
     "name": "stdout",
     "output_type": "stream",
     "text": [
      "7/7 [==============================] - 16s 2s/step - loss: 3.2957 - accuracy: 0.5333\n",
      "\n",
      " loss : 329.57\n",
      "\n",
      " accuracy : 53.33\n"
     ]
    }
   ],
   "source": [
    "#evaluacion basica de la accuracy\n",
    "v = model.evaluate(test_data, test_labels)\n",
    "w = model.metrics_names\n",
    "\n",
    "for t in range (len(w)):\n",
    "    print(\"\\n\", w[t],\":\", np.round(v[t]*100,2))"
   ]
  },
  {
   "cell_type": "code",
   "execution_count": 25,
   "id": "a158909b",
   "metadata": {},
   "outputs": [
    {
     "name": "stdout",
     "output_type": "stream",
     "text": [
      "ResNet50 MODEL\n",
      "              precision    recall  f1-score   support\n",
      "\n",
      "           0       0.89      0.87      0.88        39\n",
      "           1       0.62      0.64      0.63        39\n",
      "           2       0.35      0.49      0.41        39\n",
      "           3       0.40      0.41      0.41        39\n",
      "           4       0.43      0.26      0.32        39\n",
      "\n",
      "    accuracy                           0.53       195\n",
      "   macro avg       0.54      0.53      0.53       195\n",
      "weighted avg       0.54      0.53      0.53       195\n",
      "\n"
     ]
    }
   ],
   "source": [
    "# obtencion de la precison, recall, f1-score y support por cada clase\n",
    "test_pred = model.predict(test_data)\n",
    "test_pred_de = np.argmax(test_pred,axis=1)\n",
    "test_labels_de = np.argmax(test_labels, axis=1)\n",
    "print('ResNet50 MODEL')\n",
    "print(classification_report(test_labels_de, test_pred_de))"
   ]
  },
  {
   "cell_type": "code",
   "execution_count": 26,
   "id": "8c8a2ee0",
   "metadata": {},
   "outputs": [
    {
     "name": "stderr",
     "output_type": "stream",
     "text": [
      "/var/folders/8t/60tzsb9x2p1_hm55m00nhbgh0000gn/T/ipykernel_19937/2087928635.py:36: DeprecationWarning: scipy.interp is deprecated and will be removed in SciPy 2.0.0, use numpy.interp instead\n",
      "  mean_tpr += interp(all_fpr, fpr[i], tpr[i])\n"
     ]
    },
    {
     "data": {
      "image/png": "[encoded data removed]",
      "text/plain": [
       "<Figure size 432x288 with 1 Axes>"
      ]
     },
     "metadata": {
      "needs_background": "light"
     },
     "output_type": "display_data"
    }
   ],
   "source": [
    "#Calculo de las curvas roc por clase\n",
    "\n",
    "\n",
    "from sklearn.metrics import roc_curve, auc\n",
    "from scipy import interp\n",
    "from itertools import cycle\n",
    "\n",
    "#n_classes = 3\n",
    "#titulo=\"SAVE_CROPS_5eti_39_imbalanced\"\n",
    "# Plot linewidth.\n",
    "lw = 2\n",
    "\n",
    "# Compute ROC curve and ROC area for each class\n",
    "fpr = dict()\n",
    "tpr = dict()\n",
    "roc_auc = dict()\n",
    "\n",
    "n_classes=[0,1,2,3,4]\n",
    "\n",
    "for i in n_classes:\n",
    "    fpr[i], tpr[i], _ = roc_curve(test_labels[:, i], test_pred[:, i])\n",
    "    roc_auc[i] = auc(fpr[i], tpr[i])\n",
    "\n",
    "# Compute micro-average ROC curve and ROC area\n",
    "fpr[\"micro\"], tpr[\"micro\"], _ = roc_curve(test_labels.ravel(), test_pred.ravel())\n",
    "roc_auc[\"micro\"] = auc(fpr[\"micro\"], tpr[\"micro\"])\n",
    "\n",
    "# Compute macro-average ROC curve and ROC area\n",
    "\n",
    "# First aggregate all false positive rates\n",
    "all_fpr = np.unique(np.concatenate([fpr[i] for i in n_classes]))\n",
    "\n",
    "# Then interpolate all ROC curves at this points\n",
    "mean_tpr = np.zeros_like(all_fpr)\n",
    "for i in n_classes:\n",
    "    mean_tpr += interp(all_fpr, fpr[i], tpr[i])\n",
    "\n",
    "# Finally average it and compute AUC\n",
    "mean_tpr /= len(n_classes)\n",
    "\n",
    "fpr[\"macro\"] = all_fpr\n",
    "tpr[\"macro\"] = mean_tpr\n",
    "roc_auc[\"macro\"] = auc(fpr[\"macro\"], tpr[\"macro\"])\n",
    "\n",
    "\n",
    "\n",
    "colors = cycle(['aqua', 'darkorange', 'cornflowerblue','green','red'])\n",
    "d={0:\"sin rd\", 1:\"leve\", 2:\"moderada\", 3: \"grave\", 4:\"proliferativa\"}\n",
    "for i, color in zip(n_classes, colors):\n",
    "    plt.plot(fpr[i], tpr[i], color=color, lw=lw,\n",
    "             label='{0} (A={1:0.2f})'\n",
    "             ''.format(d[i], roc_auc[i]))\n",
    "\n",
    "plt.plot([0, 1], [0, 1], 'k--', lw=lw)\n",
    "plt.xlim([0.0, 1.0])\n",
    "plt.ylim([0.0, 1.05])\n",
    "plt.title('ROC curves using InceptionV2 model')\n",
    "plt.xlabel('False Positive Rate')\n",
    "plt.ylabel('True Positive Rate')\n",
    "#plt.title(titulo)\n",
    "plt.legend(loc=\"lower right\")\n",
    "plt.show()"
   ]
  },
  {
   "cell_type": "code",
   "execution_count": 27,
   "id": "a21026ea",
   "metadata": {},
   "outputs": [],
   "source": [
    "from sklearn.metrics import confusion_matrix\n",
    "mat_con = (confusion_matrix(test_labels_de, test_pred_de, labels=[0, 1,2,3,4]))"
   ]
  },
  {
   "cell_type": "code",
   "execution_count": 28,
   "id": "3cee42f4",
   "metadata": {},
   "outputs": [
    {
     "data": {
      "image/png": "[encoded data removed]",
      "text/plain": [
       "<Figure size 540x540 with 1 Axes>"
      ]
     },
     "metadata": {
      "needs_background": "light"
     },
     "output_type": "display_data"
    }
   ],
   "source": [
    "# Setting the attributes\n",
    "fig, px = plt.subplots(figsize=(7.5, 7.5))\n",
    "px.matshow(mat_con, cmap=plt.cm.YlOrRd, alpha=0.5)\n",
    "for m in range(mat_con.shape[0]):\n",
    "    for n in range(mat_con.shape[1]):\n",
    "        px.text(x=m,y=n,s=mat_con[m, n], va='center', ha='center', size='xx-large')\n",
    "\n",
    "# Sets the labels\n",
    "plt.xlabel('Predictions', fontsize=16)\n",
    "plt.ylabel('Reals', fontsize=16)\n",
    "plt.title('Confusion Matrix', fontsize=15)\n",
    "plt.show()"
   ]
  },
  {
   "cell_type": "code",
   "execution_count": null,
   "id": "423ca182",
   "metadata": {},
   "outputs": [],
   "source": []
  }
 ],
 "metadata": {
  "kernelspec": {
   "display_name": "Python 3 (ipykernel)",
   "language": "python",
   "name": "python3"
  },
  "language_info": {
   "codemirror_mode": {
    "name": "ipython",
    "version": 3
   },
   "file_extension": ".py",
   "mimetype": "text/x-python",
   "name": "python",
   "nbconvert_exporter": "python",
   "pygments_lexer": "ipython3",
   "version": "3.8.8"
  }
 },
 "nbformat": 4,
 "nbformat_minor": 5
}
